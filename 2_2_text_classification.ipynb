{
  "nbformat": 4,
  "nbformat_minor": 0,
  "metadata": {
    "colab": {
      "provenance": [],
      "include_colab_link": true
    },
    "kernelspec": {
      "name": "python3",
      "display_name": "Python 3"
    },
    "language_info": {
      "name": "python"
    }
  },
  "cells": [
    {
      "cell_type": "markdown",
      "metadata": {
        "id": "view-in-github",
        "colab_type": "text"
      },
      "source": [
        "<a href=\"https://colab.research.google.com/github/WayneGretzky1/CSCI-4521-Applied-Machine-Learning/blob/main/2_2_text_classification.ipynb\" target=\"_parent\"><img src=\"https://colab.research.google.com/assets/colab-badge.svg\" alt=\"Open In Colab\"/></a>"
      ]
    },
    {
      "cell_type": "markdown",
      "source": [
        "## Download and extra the data\n",
        "Data is in a zip file"
      ],
      "metadata": {
        "id": "E9CcmwoY1Uxc"
      }
    },
    {
      "cell_type": "code",
      "execution_count": null,
      "metadata": {
        "id": "lIs6IoqSd3Dz"
      },
      "outputs": [],
      "source": [
        "!wget \"https://raw.githubusercontent.com/be-prado/csci4521/refs/heads/main/20news-bydate.tar.gz\""
      ]
    },
    {
      "cell_type": "code",
      "source": [
        "!tar -xf 20news-bydate.tar.gz"
      ],
      "metadata": {
        "id": "uKE6Dkole9Qn"
      },
      "execution_count": null,
      "outputs": []
    },
    {
      "cell_type": "markdown",
      "source": [
        "## Using SciKit-Learn's CountVectorizer\n"
      ],
      "metadata": {
        "id": "hWoW7gpG1c56"
      }
    },
    {
      "cell_type": "code",
      "source": [
        "from sklearn.feature_extraction.text import CountVectorizer"
      ],
      "metadata": {
        "id": "BEMdRINDfMy5"
      },
      "execution_count": null,
      "outputs": []
    },
    {
      "cell_type": "markdown",
      "source": [
        "The parameter `min_df` controls effect words that are not used frequently (min_df = minimum document frequency).\n",
        " - If it is an integer, all words occurring less than that value will be dropped.\n",
        " - If it is a fraction, all words that occur less than that fraction of the overall dataset are be dropped.\n",
        "\n",
        "`max_df` works in a similar manner"
      ],
      "metadata": {
        "id": "9U1f4K9efv84"
      }
    },
    {
      "cell_type": "code",
      "source": [
        "vectorizer = CountVectorizer(min_df=1) #min_df=1 --> use all words"
      ],
      "metadata": {
        "id": "a9xSHagyftHK"
      },
      "execution_count": null,
      "outputs": []
    },
    {
      "cell_type": "code",
      "source": [
        "CountVectorizer?"
      ],
      "metadata": {
        "id": "spUna2RtXUTL"
      },
      "execution_count": null,
      "outputs": []
    },
    {
      "cell_type": "markdown",
      "source": [
        "Consider two sentences:"
      ],
      "metadata": {
        "id": "X2dwLKYvgqkf"
      }
    },
    {
      "cell_type": "code",
      "source": [
        "content = [\"How to catch pokemon\", \"Which Pokemon is the hardest to catch?\"]"
      ],
      "metadata": {
        "id": "rwW49arVgNq0"
      },
      "execution_count": null,
      "outputs": []
    },
    {
      "cell_type": "markdown",
      "source": [
        "How many uniuqe words between the two?\n",
        "  - Is `catch` and `catch?` the same word?\n",
        "  - Is `Pokemon` and `pokemon` the same word?\n",
        "  - Would `catch` and `catching` be the same word?"
      ],
      "metadata": {
        "id": "SFYoYjsngsc-"
      }
    },
    {
      "cell_type": "code",
      "source": [
        "# TODO: fit_transform the sentences then print the vocab\n"
      ],
      "metadata": {
        "id": "n3wW8WzSgmnn"
      },
      "execution_count": null,
      "outputs": []
    },
    {
      "cell_type": "markdown",
      "source": [
        "We can turn each sentence into a \"bag of words\" ... for each sentence:\n",
        " - 1 is word is present\n",
        " - 0 is word is absent"
      ],
      "metadata": {
        "id": "DeKbMzxWhE1e"
      }
    },
    {
      "cell_type": "code",
      "source": [
        "print(X.toarray())"
      ],
      "metadata": {
        "id": "Y0HPH_Z7X9pJ"
      },
      "execution_count": null,
      "outputs": []
    },
    {
      "cell_type": "markdown",
      "source": [
        "### CountVectorizer on UseNet posts"
      ],
      "metadata": {
        "id": "sumRDan42Kpc"
      }
    },
    {
      "cell_type": "code",
      "source": [
        "import os\n",
        "DIR = \"/content/20news-bydate-train/rec.sport.hockey\""
      ],
      "metadata": {
        "id": "n2ZWkdJeifg3"
      },
      "execution_count": null,
      "outputs": []
    },
    {
      "cell_type": "code",
      "source": [
        "posts = [open(os.path.join(DIR, filename)).read() for filename in os.listdir(DIR)]"
      ],
      "metadata": {
        "id": "g4je5THciUFx"
      },
      "execution_count": null,
      "outputs": []
    },
    {
      "cell_type": "code",
      "source": [
        "posts[45]"
      ],
      "metadata": {
        "colab": {
          "base_uri": "https://localhost:8080/",
          "height": 192
        },
        "id": "4W151couYXIi",
        "outputId": "4384b5b9-899b-4816-9bff-59f7a34012d6"
      },
      "execution_count": null,
      "outputs": [
        {
          "output_type": "execute_result",
          "data": {
            "text/plain": [
              "\"From: maynard@ramsey.cs.laurentian.ca (Roger Maynard)\\nSubject: Re: Canadiens - another Stanley Cup???\\nOrganization: Dept. of Computer Science, Laurentian University, Sudbury, ON\\nLines: 35\\n\\nIn <rauser.734062534@sfu.ca> rauser@fraser.sfu.ca (Richard John Rauser) writes:\\n\\n>pereira@CAM.ORG (Dean Pereira) writes:\\n\\n\\n>>\\t\\tWith the kind of team Montreal has now,  they can take the\\n>>cup easily.  The only problem they have right now is that everyone is\\n>>trying to steal the show and play alone.  They need some massive teamwork.\\n\\nThis is known as the Savard syndrome - and we are talking Denis, not Serge.\\nNo team will ever win squat with the likes of Denis Savard in their lineup.\\n\\n>>\\tThey are also in a little of a slump because long-time hockey\\n>>Montreal Canadiens announcer Claude Mouton died last tuesday and it was\\n>>rough on everybody because he has worked with the organization for 21\\n>>years.  But I know that is no excuse.  But if the Habs manage to get some\\n>>good teamwork and get into the spirit,  they should have no problem\\n>>winning in May.\\n\\nThey could tell Savard to stay home and watch the games on TV.\\n\\n>   I agree. I also think Roy needs a good kick sometimes...that horrible\\n>4-0 loss to the Capitals last week...yeeeech!\\n\\n>   Here's to Cup #23...this year!\\n\\nSounds like #12 to me.\\n\\ncordially, as always, \\n\\nrm\\n\\n-- \\nRoger Maynard \\nmaynard@ramsey.cs.laurentian.ca \\n\""
            ],
            "application/vnd.google.colaboratory.intrinsic+json": {
              "type": "string"
            }
          },
          "metadata": {},
          "execution_count": 12
        }
      ]
    },
    {
      "cell_type": "code",
      "source": [
        "# TODO: fit_transform the vectorizer with our new data\n"
      ],
      "metadata": {
        "id": "OmsdSazzAPDf"
      },
      "execution_count": null,
      "outputs": []
    },
    {
      "cell_type": "code",
      "source": [
        "X_train.shape"
      ],
      "metadata": {
        "id": "UxmpSr7-YpNI"
      },
      "execution_count": null,
      "outputs": []
    },
    {
      "cell_type": "code",
      "source": [
        "print(vectorizer.get_feature_names_out())"
      ],
      "metadata": {
        "id": "HqHNvFiAY21L"
      },
      "execution_count": null,
      "outputs": []
    },
    {
      "cell_type": "code",
      "source": [
        "# TODO: vectorize the sentence \"Should a team be added in Wisconsin?\"\n"
      ],
      "metadata": {
        "id": "tAqh7x-8AYyO"
      },
      "execution_count": null,
      "outputs": []
    },
    {
      "cell_type": "code",
      "source": [
        "# TODO: get the names of features present"
      ],
      "metadata": {
        "id": "9Y0FKI4-ZRLh"
      },
      "execution_count": null,
      "outputs": []
    },
    {
      "cell_type": "markdown",
      "source": [
        "### Finding Nearest Neighbors\n",
        "\n",
        "`new_post_vec` is a feature vector, and we can try to find its nearest neighbors in the training set"
      ],
      "metadata": {
        "id": "4za_qpSw2bIw"
      }
    },
    {
      "cell_type": "code",
      "source": [
        "import numpy as np"
      ],
      "metadata": {
        "id": "c1SFYjDhmlVQ"
      },
      "execution_count": null,
      "outputs": []
    },
    {
      "cell_type": "code",
      "source": [
        "def dist_raw(v1, v2):\n",
        "  delta = v1-v2\n",
        "  return np.linalg.norm(delta)"
      ],
      "metadata": {
        "id": "maIrvuhtmoy9"
      },
      "execution_count": null,
      "outputs": []
    },
    {
      "cell_type": "code",
      "source": [
        "# TODO: find the distances between the new post and the vectors in our training set\n"
      ],
      "metadata": {
        "id": "19vHS1mLAmO_"
      },
      "execution_count": null,
      "outputs": []
    },
    {
      "cell_type": "code",
      "source": [
        "# TODO: which post is the closest?\n"
      ],
      "metadata": {
        "id": "bNGHLQuzAtMg"
      },
      "execution_count": null,
      "outputs": []
    },
    {
      "cell_type": "code",
      "source": [
        "dists[best_match_ID]"
      ],
      "metadata": {
        "id": "6TeH7MaOaiGK"
      },
      "execution_count": null,
      "outputs": []
    },
    {
      "cell_type": "code",
      "source": [
        "posts[best_match_ID]"
      ],
      "metadata": {
        "id": "qbU4P9ouamDG"
      },
      "execution_count": null,
      "outputs": []
    },
    {
      "cell_type": "markdown",
      "source": [
        "Hmm. The querry document was `\"Should a new team be added to Wisconsin?\"`.\n",
        "\n",
        "Does this post seem related to our query feature? Let's check which elements of the feature vectors overlap."
      ],
      "metadata": {
        "id": "G1PU3Ia52yse"
      }
    },
    {
      "cell_type": "code",
      "source": [
        "# TODO: print the query vector and the closest vector?\n"
      ],
      "metadata": {
        "id": "HPdnRgLzBF9w"
      },
      "execution_count": null,
      "outputs": []
    },
    {
      "cell_type": "code",
      "source": [
        "print(new_post_vec)"
      ],
      "metadata": {
        "id": "eeq-0uWHazZE"
      },
      "execution_count": null,
      "outputs": []
    },
    {
      "cell_type": "markdown",
      "source": [
        "That worked poorly... There is no overlap in features. What happened?"
      ],
      "metadata": {
        "id": "MlW5q5-9oUtU"
      }
    },
    {
      "cell_type": "markdown",
      "source": [
        "#### Normalized distance\n",
        "Normalizing vectors before computing distance focuses on document content rather than length"
      ],
      "metadata": {
        "id": "XpszVXHU3KBS"
      }
    },
    {
      "cell_type": "code",
      "source": [
        "def dist_norm(v1, v2):\n",
        "  v1_normalized = v1/np.linalg.norm(v1) #Normalize vectors to unit length\n",
        "  v2_normalized = v2/np.linalg.norm(v2)\n",
        "  delta = v1_normalized-v2_normalized   #Then take distance\n",
        "  return np.linalg.norm(delta)"
      ],
      "metadata": {
        "id": "P_P5S6V8oQE3"
      },
      "execution_count": null,
      "outputs": []
    },
    {
      "cell_type": "code",
      "source": [
        "# TODO: find the normalized distances between the new post and the vectors in our training set then find the new closest post\n"
      ],
      "metadata": {
        "id": "d3q1J6iYoefA"
      },
      "execution_count": null,
      "outputs": []
    },
    {
      "cell_type": "code",
      "source": [
        "best_match_ID = np.argmin(dists)\n",
        "print(best_match_ID)"
      ],
      "metadata": {
        "id": "O3cayqQIbfjA"
      },
      "execution_count": null,
      "outputs": []
    },
    {
      "cell_type": "code",
      "source": [
        "posts[best_match_ID]"
      ],
      "metadata": {
        "id": "sJTz0_rWbkxI"
      },
      "execution_count": null,
      "outputs": []
    },
    {
      "cell_type": "markdown",
      "source": [
        "## Stop Words, Stemming, and TF-IDF\n",
        "Ignoring common words (stop words)"
      ],
      "metadata": {
        "id": "BFOLmkJZqgNt"
      }
    },
    {
      "cell_type": "code",
      "source": [
        "vectorizer = CountVectorizer(min_df=1, stop_words='english')"
      ],
      "metadata": {
        "id": "_GaL1JhAqaSD"
      },
      "execution_count": null,
      "outputs": []
    },
    {
      "cell_type": "markdown",
      "source": [
        "We'll lose some words now. The size of the feature vector should be smaller."
      ],
      "metadata": {
        "id": "qmqTGz74q_Hp"
      }
    },
    {
      "cell_type": "code",
      "source": [
        "X_train.shape #Old Vectorizations"
      ],
      "metadata": {
        "id": "bY2yEYzrq5gO"
      },
      "execution_count": null,
      "outputs": []
    },
    {
      "cell_type": "code",
      "source": [
        "X_train = vectorizer.fit_transform(posts)"
      ],
      "metadata": {
        "id": "KK3_cNTZq8ic"
      },
      "execution_count": null,
      "outputs": []
    },
    {
      "cell_type": "code",
      "source": [
        "X_train.shape #New Vectorizations"
      ],
      "metadata": {
        "id": "1a0FtKFVq90I"
      },
      "execution_count": null,
      "outputs": []
    },
    {
      "cell_type": "code",
      "source": [
        "sorted(vectorizer.get_stop_words())"
      ],
      "metadata": {
        "id": "KZquDC4xcbqa"
      },
      "execution_count": null,
      "outputs": []
    },
    {
      "cell_type": "code",
      "source": [
        "# TODO: based on a new query post, which post in our dataset is closest?\n"
      ],
      "metadata": {
        "id": "p4u96Ah-8f8r"
      },
      "execution_count": null,
      "outputs": []
    },
    {
      "cell_type": "markdown",
      "source": [
        "How did this do?\n",
        "\n",
        "We can can also add stemming and tf-idf:"
      ],
      "metadata": {
        "id": "4B_S_paguWBW"
      }
    },
    {
      "cell_type": "code",
      "source": [
        "import nltk.stem\n",
        "english_stemmer = nltk.stem.SnowballStemmer('english')"
      ],
      "metadata": {
        "id": "2Npi4jJfA2rU"
      },
      "execution_count": null,
      "outputs": []
    },
    {
      "cell_type": "code",
      "source": [
        "english_stemmer.stem(\"happily\")"
      ],
      "metadata": {
        "id": "DtFQ11Jzdsu9"
      },
      "execution_count": null,
      "outputs": []
    },
    {
      "cell_type": "code",
      "source": [
        "class StemmedCountVectorizer(CountVectorizer):\n",
        "   def build_analyzer(self):\n",
        "     analyzer = super(StemmedCountVectorizer, self).build_analyzer()\n",
        "     return lambda doc: (english_stemmer.stem(w) for w in analyzer(doc))"
      ],
      "metadata": {
        "id": "T8YDUn6hA_pL"
      },
      "execution_count": null,
      "outputs": []
    },
    {
      "cell_type": "code",
      "source": [
        "vectorizer = StemmedCountVectorizer(min_df=1, stop_words='english')\n",
        "X_train = vectorizer.fit_transform(posts)"
      ],
      "metadata": {
        "id": "meDYFD4DBxBw"
      },
      "execution_count": null,
      "outputs": []
    },
    {
      "cell_type": "code",
      "source": [
        "X_train.shape"
      ],
      "metadata": {
        "id": "fMvzhOUnedsc"
      },
      "execution_count": null,
      "outputs": []
    },
    {
      "cell_type": "code",
      "source": [
        "from sklearn.feature_extraction.text import TfidfVectorizer\n",
        "class StemmedTfidfVectorizer(TfidfVectorizer):\n",
        "  def build_analyzer(self):\n",
        "    analyzer = super(TfidfVectorizer, self).build_analyzer()\n",
        "    return lambda doc: (english_stemmer.stem(w) for w in analyzer(doc))"
      ],
      "metadata": {
        "id": "u74xxx5eCmoo"
      },
      "execution_count": null,
      "outputs": []
    },
    {
      "cell_type": "code",
      "source": [
        "vectorizer = StemmedTfidfVectorizer(min_df=1, stop_words='english')\n",
        "X_train = vectorizer.fit_transform(posts)"
      ],
      "metadata": {
        "id": "WjYFtQpDDTQF"
      },
      "execution_count": null,
      "outputs": []
    },
    {
      "cell_type": "code",
      "source": [
        "X_train.shape"
      ],
      "metadata": {
        "id": "efvbSCPoekz-"
      },
      "execution_count": null,
      "outputs": []
    },
    {
      "cell_type": "code",
      "source": [
        "# TODO: with these new vectorizers, lets test that query post again\n"
      ],
      "metadata": {
        "id": "nEYUAxrJ-_ST"
      },
      "execution_count": null,
      "outputs": []
    },
    {
      "cell_type": "markdown",
      "source": [
        "#### Cosine Similarity\n",
        "\n",
        "We can use the cosine similarity instead of the normalized vector distance.\n",
        "\n",
        "But remember to maximize similarity vs. minimize distance."
      ],
      "metadata": {
        "id": "QZvoM8SH4WTM"
      }
    },
    {
      "cell_type": "code",
      "source": [
        "def cos_similarity(v1, v2):\n",
        "  return np.vdot(v1,v2) / (np.linalg.norm(v1) * np.linalg.norm(v2))"
      ],
      "metadata": {
        "id": "obmUosM7Dnpx"
      },
      "execution_count": null,
      "outputs": []
    },
    {
      "cell_type": "code",
      "source": [
        "# TODO: use cosine similarity as a distance metric and try the query post again\n"
      ],
      "metadata": {
        "id": "5lujC_X0_ISd"
      },
      "execution_count": null,
      "outputs": []
    },
    {
      "cell_type": "markdown",
      "source": [
        "## Closest Document Function"
      ],
      "metadata": {
        "id": "JXNkt3574i3d"
      }
    },
    {
      "cell_type": "code",
      "source": [
        "# Helper function!\n",
        "def findClosestStory(promt):\n",
        "  new_post_vec = vectorizer.transform([promt])\n",
        "  dists = [cos_similarity(new_post_vec.toarray(),train_vec.toarray()) for train_vec in X_train]\n",
        "  closest_id = np.argmax(dists) #switch to arg max!\n",
        "  return posts[closest_id]\n"
      ],
      "metadata": {
        "id": "kkPP4P30HQZD"
      },
      "execution_count": null,
      "outputs": []
    },
    {
      "cell_type": "code",
      "source": [
        "print(findClosestStory(\"where can I find cheap tickets?\"))"
      ],
      "metadata": {
        "id": "tHFFWIBNfewX"
      },
      "execution_count": null,
      "outputs": []
    }
  ]
}