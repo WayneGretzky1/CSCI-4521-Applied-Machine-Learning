{
  "nbformat": 4,
  "nbformat_minor": 0,
  "metadata": {
    "colab": {
      "provenance": [],
      "include_colab_link": true
    },
    "kernelspec": {
      "name": "python3",
      "display_name": "Python 3"
    },
    "language_info": {
      "name": "python"
    }
  },
  "cells": [
    {
      "cell_type": "markdown",
      "metadata": {
        "id": "view-in-github",
        "colab_type": "text"
      },
      "source": [
        "<a href=\"https://colab.research.google.com/github/WayneGretzky1/CSCI-4521-Applied-Machine-Learning/blob/main/1_2_NN_Classifier.ipynb\" target=\"_parent\"><img src=\"https://colab.research.google.com/assets/colab-badge.svg\" alt=\"Open In Colab\"/></a>"
      ]
    },
    {
      "cell_type": "markdown",
      "source": [
        "### Download & load seed dataset"
      ],
      "metadata": {
        "id": "m6fdpy9jZiRa"
      }
    },
    {
      "cell_type": "code",
      "source": [
        "import pandas as pd\n",
        "import numpy as np\n",
        "import matplotlib.pyplot as plt\n",
        "from matplotlib.colors import ListedColormap\n",
        "df = pd.read_csv(\"https://raw.githubusercontent.com/be-prado/csci4521/refs/heads/main/Seeds.csv\")"
      ],
      "metadata": {
        "id": "Rmag3bSx5cBv"
      },
      "execution_count": null,
      "outputs": []
    },
    {
      "cell_type": "code",
      "source": [
        "df.head()"
      ],
      "metadata": {
        "id": "QUSqH-Ng_Tlv"
      },
      "execution_count": null,
      "outputs": []
    },
    {
      "cell_type": "markdown",
      "source": [
        "### Create features and label matricies"
      ],
      "metadata": {
        "id": "3joq8jMTZvI2"
      }
    },
    {
      "cell_type": "code",
      "source": [
        "# TODO: make a dataframe with only the selected features 'area' and 'compactness'\n"
      ],
      "metadata": {
        "id": "HWerbVjgBuRg"
      },
      "execution_count": null,
      "outputs": []
    },
    {
      "cell_type": "code",
      "source": [
        "# TODO: make a dataframe with only the labels\n"
      ],
      "metadata": {
        "id": "pMf40rrbB343"
      },
      "execution_count": null,
      "outputs": []
    },
    {
      "cell_type": "code",
      "source": [
        "# TODO: move data from dataframes to numpy arrays\n"
      ],
      "metadata": {
        "id": "5BonABCWctCs"
      },
      "execution_count": null,
      "outputs": []
    },
    {
      "cell_type": "markdown",
      "source": [
        "### Classifying new seeds"
      ],
      "metadata": {
        "id": "AR08IjlxaFOA"
      }
    },
    {
      "cell_type": "markdown",
      "source": [
        "What type would we expect a seed with an area of 12 cm^2 and a compactness/roundness of 0.9? Guesses?"
      ],
      "metadata": {
        "id": "Z4ztMaFRb3rF"
      }
    },
    {
      "cell_type": "code",
      "source": [
        "np.set_printoptions(suppress=True) #Set numpy to print not in scientific notation"
      ],
      "metadata": {
        "id": "UUpn6ruJbn8c"
      },
      "execution_count": null,
      "outputs": []
    },
    {
      "cell_type": "code",
      "source": [
        "# functions from last time\n",
        "\n",
        "def distance_sq(p0, p1):\n",
        "  '''Computes squared Euclidean distance'''\n",
        "  return np.sum( (p0-p1)**2 )\n",
        "\n",
        "\n",
        "# nearest neighbor classifier for single sample\n",
        "def nn_classify_sample(training_set, training_labels, new_example):\n",
        "  dists = np.array([distance_sq(t,new_example) for t in training_set])\n",
        "  nearest_idx = dists.argmin()\n",
        "  return training_labels[nearest_idx]"
      ],
      "metadata": {
        "id": "I8BGVs22MaaQ"
      },
      "execution_count": null,
      "outputs": []
    },
    {
      "cell_type": "markdown",
      "source": [
        "### Automating nearest neighbors classification:"
      ],
      "metadata": {
        "id": "ma7ChQCocRAY"
      }
    },
    {
      "cell_type": "code",
      "source": [
        "# TODO: practice using classification function\n"
      ],
      "metadata": {
        "id": "TCltvUTwkkuL"
      },
      "execution_count": null,
      "outputs": []
    },
    {
      "cell_type": "code",
      "source": [
        "# TODO: create helper function called nn_classify for classifying a set of example features (stored in numpy arrays!)\n"
      ],
      "metadata": {
        "id": "Q6wTjldqHl24"
      },
      "execution_count": null,
      "outputs": []
    },
    {
      "cell_type": "markdown",
      "source": [
        "### Drawing neighbor maps:"
      ],
      "metadata": {
        "id": "-6_3OC9UbdGg"
      }
    },
    {
      "cell_type": "code",
      "source": [
        "#Test every possible feature pair between min and max feature values\n",
        "n = 100  # step size in the mesh\n",
        "x_min, x_max = features[:, 0].min() - 0.2, features[:, 0].max() + 0.2\n",
        "y_min, y_max = features[:, 1].min() - 0.2, features[:, 1].max() + 0.2\n",
        "xx, yy = np.meshgrid(np.linspace(x_min, x_max, n), np.linspace(y_min, y_max, n))\n",
        "test_features = np.array([xx.ravel(), yy.ravel()]).transpose()\n",
        "print(\"Array of grid data points that will be tested in our classification:\")\n",
        "print(test_features)"
      ],
      "metadata": {
        "id": "PH9xq-0Ikjux",
        "colab": {
          "base_uri": "https://localhost:8080/"
        },
        "outputId": "1325e3e6-72ed-4d34-c255-feed94c5ece0"
      },
      "execution_count": null,
      "outputs": [
        {
          "output_type": "stream",
          "name": "stdout",
          "text": [
            "Array of grid data points that will be tested in our classification:\n",
            "[[10.39       0.6081   ]\n",
            " [10.5010101  0.6081   ]\n",
            " [10.6120202  0.6081   ]\n",
            " ...\n",
            " [21.1579798  1.1183   ]\n",
            " [21.2689899  1.1183   ]\n",
            " [21.38       1.1183   ]]\n"
          ]
        }
      ]
    },
    {
      "cell_type": "code",
      "source": [
        "# classify all the grid data points\n",
        "z = nn_classify(features, labels, test_features)\n",
        "print(\"Classification of the artificial data points:\")\n",
        "print(z)"
      ],
      "metadata": {
        "id": "6r25ht1BoQrO",
        "colab": {
          "base_uri": "https://localhost:8080/"
        },
        "outputId": "29666d7d-872b-4810-e176-cc48fc9f693c"
      },
      "execution_count": null,
      "outputs": [
        {
          "output_type": "stream",
          "name": "stdout",
          "text": [
            "(10000, 2)\n",
            "Classification of the artificial data points:\n",
            "[3. 3. 3. ... 2. 2. 2.]\n"
          ]
        }
      ]
    },
    {
      "cell_type": "code",
      "source": [
        "z = z.reshape(xx.shape) # make classification array into a 2D array for plot\n",
        "fig = plt.figure()\n",
        "plt.pcolormesh(xx, yy, z)"
      ],
      "metadata": {
        "id": "PHCpf306lOpp"
      },
      "execution_count": null,
      "outputs": []
    },
    {
      "cell_type": "code",
      "source": [
        "plt.scatter(features[:, 0], features[:, 1], c=labels, edgecolor='k', s=60)\n",
        "plt.xlim(xx.min(), xx.max())\n",
        "plt.ylim(yy.min(), yy.max())\n",
        "plt.title(\"Outcome classification\")\n",
        "plt.xlabel(\"Area\")\n",
        "plt.ylabel(\"Compactness\")\n",
        "plt.show()"
      ],
      "metadata": {
        "id": "3ZfOqdOXmHXS"
      },
      "execution_count": null,
      "outputs": []
    },
    {
      "cell_type": "code",
      "source": [
        "#Color mesh of predictions\n",
        "z = z.reshape(xx.shape)\n",
        "fig = plt.figure()\n",
        "plt.pcolormesh(xx, yy, z)\n",
        "\n",
        "#Scatter Plot of actual samples:\n",
        "plt.scatter(features[:, 0], features[:, 1], c=labels, edgecolor='k', s=20)\n",
        "plt.xlim(xx.min(), xx.max())\n",
        "plt.ylim(yy.min(), yy.max())\n",
        "plt.title(\"Outcome classification (nearest neighbor)\")\n",
        "plt.show()"
      ],
      "metadata": {
        "id": "71dTwC31mMSt",
        "colab": {
          "base_uri": "https://localhost:8080/",
          "height": 452
        },
        "outputId": "0819b7c5-0984-4d97-b835-dbcdace4b06b"
      },
      "execution_count": null,
      "outputs": [
        {
          "output_type": "display_data",
          "data": {
            "text/plain": [
              "<Figure size 640x480 with 1 Axes>"
            ],
            "image/png": "[encoded data removed]"
          },
          "metadata": {}
        }
      ]
    },
    {
      "cell_type": "code",
      "source": [
        "# Function that wraps up the classification and graphing with nicer colors\n",
        "\n",
        "def graphClassifier2D(X,Y, classifier):\n",
        "  # Create color maps\n",
        "  cmap_light = ListedColormap(['#FFAAAA', '#AAAAFF', '#AAFFFF'])\n",
        "  cmap_bold  = ListedColormap(['#FF0000', '#0000FF', '#00FFFF'])\n",
        "\n",
        "  h = 0.1  # step size in the mesh\n",
        "  x_min, x_max = X[:, 0].min() - 0.2, X[:, 0].max() + 0.2\n",
        "  y_min, y_max = X[:, 1].min() - 0.2, X[:, 1].max() + 0.2\n",
        "  xx, yy = np.meshgrid(np.arange(x_min, x_max, h), np.arange(y_min, y_max, h))\n",
        "  test_features = np.array([xx.ravel(), yy.ravel()]).transpose()\n",
        "  z = classifier(X, Y, test_features)\n",
        "\n",
        "  z = z.reshape(xx.shape)\n",
        "  fig = plt.figure()\n",
        "  plt.pcolormesh(xx, yy, z, cmap=cmap_light)\n",
        "\n",
        "  plt.scatter(X[:, 0], X[:, 1], c=Y, cmap=cmap_bold, edgecolor='k', s=20)\n",
        "  plt.xlim(xx.min(), xx.max())\n",
        "  plt.ylim(yy.min(), yy.max())\n",
        "  plt.title(\"Outcome classification (nearest neighbor)\")\n",
        "  plt.xlabel(\"Area\")\n",
        "  plt.ylabel(\"Compactness\")\n",
        "  plt.show()"
      ],
      "metadata": {
        "id": "fTtDY-XSxgnx"
      },
      "execution_count": null,
      "outputs": []
    },
    {
      "cell_type": "code",
      "source": [
        "graphClassifier2D(features, labels, nn_classify)"
      ],
      "metadata": {
        "id": "mPEg7t4ijkLG"
      },
      "execution_count": null,
      "outputs": []
    },
    {
      "cell_type": "markdown",
      "source": [
        "Units don't match (cm vs cm^2), and ranges are vastly different (12-20 vs 0.8-0.95).\n",
        "\n",
        "How can we fix this?"
      ],
      "metadata": {
        "id": "RDwxoEkoqEF7"
      }
    },
    {
      "cell_type": "code",
      "source": [
        "def graphClassifier2D(X,Y, classifier, normalize=False):\n",
        "  # Create color maps\n",
        "  cmap_light = ListedColormap(['#FFAAAA', '#AAAAFF', '#AAFFFF'])\n",
        "  cmap_bold  = ListedColormap(['#FF0000', '#0000FF', '#00FFFF'])\n",
        "\n",
        "  # z-score normalization!\n",
        "  if normalize:\n",
        "    ## TODO: add z-score normalization\n",
        "\n",
        "\n",
        "  h = 0.1  # step size in the mesh\n",
        "  x_min, x_max = X[:, 0].min() - 0.2, X[:, 0].max() + 0.2\n",
        "  y_min, y_max = X[:, 1].min() - 0.2, X[:, 1].max() + 0.2\n",
        "  xx, yy = np.meshgrid(np.arange(x_min, x_max, h), np.arange(y_min, y_max, h))\n",
        "  test_features = np.array([xx.ravel(), yy.ravel()]).transpose()\n",
        "  z = classifier(X, Y, test_features)\n",
        "\n",
        "  z = z.reshape(xx.shape)\n",
        "  fig = plt.figure()\n",
        "  plt.pcolormesh(xx, yy, z, cmap=cmap_light)\n",
        "\n",
        "  plt.scatter(X[:, 0], X[:, 1], c=Y, cmap=cmap_bold, edgecolor='k', s=20)\n",
        "  plt.xlim(xx.min(), xx.max())\n",
        "  plt.ylim(yy.min(), yy.max())\n",
        "  plt.title(\"Outcome classification (nearest neighbor)\")\n",
        "  plt.xlabel(\"Area\")\n",
        "  plt.ylabel(\"Compactness\")\n",
        "  plt.show()"
      ],
      "metadata": {
        "id": "PjSBYU0mqX0S"
      },
      "execution_count": null,
      "outputs": []
    },
    {
      "cell_type": "code",
      "source": [
        "graphClassifier2D(features, labels, nn_classify, True)"
      ],
      "metadata": {
        "id": "yItkOx0CGYpE"
      },
      "execution_count": null,
      "outputs": []
    },
    {
      "cell_type": "markdown",
      "source": [
        "## Avoiding overfitting"
      ],
      "metadata": {
        "id": "bcbGITgaynZW"
      }
    },
    {
      "cell_type": "markdown",
      "source": [
        "### Leave one out accuracy"
      ],
      "metadata": {
        "id": "XLBVHYK7BMpG"
      }
    },
    {
      "cell_type": "code",
      "source": [
        "# TODO: create helper function called nn_one_out_classify for classifying a set of example features (stored in numpy arrays!)\n",
        "def nn_one_out_classify(training_set, training_labels):\n",
        "\n",
        "  return result"
      ],
      "metadata": {
        "id": "UuyM7ZfPBWKp"
      },
      "execution_count": null,
      "outputs": []
    },
    {
      "cell_type": "code",
      "source": [
        "# Function that wraps up the classification and graphing with nicer colors\n",
        "# note the data set was implicitly normalized in the graphClassifier2D function\n",
        "# this implicitly changes should often be avoided or at least be be noted\n",
        "one_out_labels = nn_one_out_classify(features, labels)\n",
        "\n",
        "one_out_accuracy = 100 * np.sum(one_out_labels == labels) / labels.shape[0]\n",
        "print(f\"Leave one out accuracy: {one_out_accuracy}\")\n",
        "\n",
        "plt.scatter(features[:,0], features[:,1], c=one_out_labels, cmap=ListedColormap(['#FF0000', '#0000FF', '#00FFFF']), edgecolor='k', s=20)\n",
        "plt.xlim(features[:,0].min()-0.1, features[:,0].max()+0.1)\n",
        "plt.ylim(features[:,1].min()-0.1, features[:,1].max()+0.1)\n",
        "plt.title(\"Outcome classification (nearest neighbor with leave one out method)\")\n",
        "plt.xlabel(\"Area\")\n",
        "plt.ylabel(\"Compactness\")\n",
        "plt.show()"
      ],
      "metadata": {
        "id": "a3iNJuZQBzlw"
      },
      "execution_count": null,
      "outputs": []
    },
    {
      "cell_type": "markdown",
      "source": [
        "### Train-test split"
      ],
      "metadata": {
        "id": "WthogibuHk6G"
      }
    },
    {
      "cell_type": "code",
      "source": [
        "# shuffle the data so the training, test split is not biased\n",
        "def shuffle_data(X, Y):\n",
        "  n = Y.shape[0]\n",
        "  shuffled_idx = np.arange(n)\n",
        "  np.random.shuffle(shuffled_idx)\n",
        "\n",
        "  shuffled_X = X[shuffled_idx]\n",
        "  shuffled_Y = Y[shuffled_idx]\n",
        "\n",
        "  return shuffled_X, shuffled_Y\n",
        "\n",
        "# split data\n",
        "def train_test_split(X, Y, ratio = 0.9):\n",
        "  n = Y.shape[0]\n",
        "\n",
        "  X_train = X[:int(n*ratio)]\n",
        "  y_train = Y[:int(n*ratio)]\n",
        "\n",
        "  X_test = X[int(n*ratio):]\n",
        "  y_test = Y[int(n*ratio):]\n",
        "\n",
        "  return X_train, y_train, X_test, y_test\n",
        "\n",
        "# classify test data based on training data\n",
        "def train_test_classifier(X, Y):\n",
        "  shuffled_X, shuffled_Y = shuffle_data(X, Y)\n",
        "  X_train, y_train, X_test, y_test = train_test_split(shuffled_X, shuffled_Y)\n",
        "  return nn_classify(X_train, y_train, X_test), y_test"
      ],
      "metadata": {
        "id": "Vvw_96CJHnQq"
      },
      "execution_count": null,
      "outputs": []
    },
    {
      "cell_type": "code",
      "source": [
        "train_test_predictions, y_test = train_test_classifier(features, labels)\n",
        "train_test_accuracy = 100 * np.sum(train_test_predictions == y_test) / y_test.shape[0]\n",
        "print(f\"Accuracy for train-test split: {train_test_accuracy}\")"
      ],
      "metadata": {
        "id": "agXf_XhrH2P4"
      },
      "execution_count": null,
      "outputs": []
    },
    {
      "cell_type": "code",
      "source": [],
      "metadata": {
        "id": "3BJftqgSKMTq"
      },
      "execution_count": null,
      "outputs": []
    }
  ]
}