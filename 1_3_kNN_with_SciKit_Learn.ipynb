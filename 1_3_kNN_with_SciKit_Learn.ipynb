{
  "nbformat": 4,
  "nbformat_minor": 0,
  "metadata": {
    "colab": {
      "provenance": [],
      "include_colab_link": true
    },
    "kernelspec": {
      "name": "python3",
      "display_name": "Python 3"
    },
    "language_info": {
      "name": "python"
    }
  },
  "cells": [
    {
      "cell_type": "markdown",
      "metadata": {
        "id": "view-in-github",
        "colab_type": "text"
      },
      "source": [
        "<a href=\"https://colab.research.google.com/github/WayneGretzky1/CSCI-4521-Applied-Machine-Learning/blob/main/1_3_kNN_with_SciKit_Learn.ipynb\" target=\"_parent\"><img src=\"https://colab.research.google.com/assets/colab-badge.svg\" alt=\"Open In Colab\"/></a>"
      ]
    },
    {
      "cell_type": "code",
      "source": [
        "import pandas as pd\n",
        "import numpy as np"
      ],
      "metadata": {
        "id": "sXGCUYZVWAAB"
      },
      "execution_count": 60,
      "outputs": []
    },
    {
      "cell_type": "code",
      "source": [
        "# load your data\n",
        "df = pd.read_csv(\"https://raw.githubusercontent.com/be-prado/csci4521/refs/heads/main/Seeds.csv\")\n",
        "names = list(df.columns) #Save column names"
      ],
      "metadata": {
        "id": "57bX1kKcWN1K"
      },
      "execution_count": 2,
      "outputs": []
    },
    {
      "cell_type": "code",
      "source": [
        "#Choose which data is featuers (X) and labels (y)\n",
        "X = df[ ['area','compactness'] ].to_numpy()\n",
        "y = df['wheat_type'].to_numpy()"
      ],
      "metadata": {
        "id": "yNpoesfdWhf3"
      },
      "execution_count": 3,
      "outputs": []
    },
    {
      "cell_type": "markdown",
      "source": [
        "Helper functions!"
      ],
      "metadata": {
        "id": "lmeGIolT83bu"
      }
    },
    {
      "cell_type": "code",
      "source": [
        "def train_test_split(X,y,test_percent):\n",
        "  numRows = y.size                     #number or rows in the entire dataset\n",
        "  splitPoint = int((1-test_percent)*numRows)  #the row index test_size% of the way through\n",
        "  p = np.random.permutation(numRows)   #array for shuffling data\n",
        "  X = X[p]\n",
        "  y = y[p]\n",
        "\n",
        "  #Training data array\n",
        "  X_train = X[:splitPoint]  # training features\n",
        "  y_train = y[:splitPoint]  # training labels\n",
        "\n",
        "  #Testing data array\n",
        "  X_test = X[splitPoint:]  # testing features\n",
        "  y_test = y[splitPoint:] # testing labels\n",
        "\n",
        "  return X_train, X_test, y_train, y_test"
      ],
      "metadata": {
        "id": "s5jdUFoxUAwY"
      },
      "execution_count": 4,
      "outputs": []
    },
    {
      "cell_type": "code",
      "source": [
        "def nn_classify_sample(train_features, train_labels, new_feature):\n",
        "  dists = np.array([np.sum( (t-new_feature)**2) for t in train_features])\n",
        "  nearest = dists.argmin()\n",
        "  return train_labels[nearest]\n",
        "\n",
        "def nn_classify(train_features, train_labels, test_features):\n",
        "  num_result = test_features[:,0].size\n",
        "  result = np.ones(num_result)\n",
        "  for i in range(0,num_result):\n",
        "    result[i] = nn_classify_sample(train_features[:,0:2], train_labels, test_features[i])\n",
        "  return result"
      ],
      "metadata": {
        "id": "-tgF7-gZYUzz"
      },
      "execution_count": 5,
      "outputs": []
    },
    {
      "cell_type": "code",
      "source": [
        "def accuracy(classify, X_train, y_train, X_test, y_test):\n",
        "  pred = classify(X_train, y_train, X_test)\n",
        "  correct_pred = (pred == y_test)\n",
        "  total_preds = y_test.size\n",
        "  return correct_pred.sum()/total_preds"
      ],
      "metadata": {
        "id": "JZAKv8xrYftA"
      },
      "execution_count": 6,
      "outputs": []
    },
    {
      "cell_type": "code",
      "source": [
        "def avg_accuracy(classifier, X, y, count = 200, split=0.33):\n",
        "  acc = 0\n",
        "  for _ in range(0,count):\n",
        "    X_train, X_test, y_train, y_test = train_test_split(X,y,split)\n",
        "    acc += accuracy(classifier, X_train, y_train, X_test, y_test)\n",
        "  return acc/count"
      ],
      "metadata": {
        "id": "9Bk91ar3dXvQ"
      },
      "execution_count": 7,
      "outputs": []
    },
    {
      "cell_type": "markdown",
      "source": [
        "test our nearest neighbor with our train/test split"
      ],
      "metadata": {
        "id": "OyKNoPfcoriG"
      }
    },
    {
      "cell_type": "code",
      "source": [
        "# TODO: create a train/test split where 1/3 of the data is used for testing\n",
        "x_train, x_test, y_train, y_test = train_test_split(X, y, 0.33)\n",
        "print(X.shape)\n",
        "print(x_train.shape)\n",
        "print(x_test.shape)"
      ],
      "metadata": {
        "id": "tUNVfFK0W5ga",
        "colab": {
          "base_uri": "https://localhost:8080/"
        },
        "outputId": "8cf2f711-64d7-4704-f75a-92225e7b0b22"
      },
      "execution_count": 8,
      "outputs": [
        {
          "output_type": "stream",
          "name": "stdout",
          "text": [
            "(210, 2)\n",
            "(140, 2)\n",
            "(70, 2)\n"
          ]
        }
      ]
    },
    {
      "cell_type": "code",
      "source": [
        "# TODO: use our helper functions to compute the accuracy of a NN model with the above split\n",
        "accuracy(nn_classify, x_train, y_train, x_test, y_test)\n"
      ],
      "metadata": {
        "id": "LJs7YN3DYso1",
        "colab": {
          "base_uri": "https://localhost:8080/"
        },
        "outputId": "9288d551-fcb4-4b00-dba0-2f2217fff5a0"
      },
      "execution_count": 9,
      "outputs": [
        {
          "output_type": "execute_result",
          "data": {
            "text/plain": [
              "np.float64(0.7857142857142857)"
            ]
          },
          "metadata": {},
          "execution_count": 9
        }
      ]
    },
    {
      "cell_type": "code",
      "source": [
        "# TODO: put both lines of code in the same block and run multiple times\n",
        "# Q: Why does each run have different accuracies each run?\n",
        "# Because we choose k to be small, we see very particular outputs\n",
        "x_train, x_test, y_train, y_test = train_test_split(X, y, 0.33)\n",
        "print(X.shape)\n",
        "print(x_train.shape)\n",
        "print(x_test.shape)\n",
        "accuracy(nn_classify, x_train, y_train, x_test, y_test)"
      ],
      "metadata": {
        "id": "icX1m_EVaAIc",
        "colab": {
          "base_uri": "https://localhost:8080/"
        },
        "outputId": "48becfe6-f68d-49b6-82a3-3b4477d9466c"
      },
      "execution_count": 16,
      "outputs": [
        {
          "output_type": "stream",
          "name": "stdout",
          "text": [
            "(210, 2)\n",
            "(140, 2)\n",
            "(70, 2)\n"
          ]
        },
        {
          "output_type": "execute_result",
          "data": {
            "text/plain": [
              "np.float64(0.8428571428571429)"
            ]
          },
          "metadata": {},
          "execution_count": 16
        }
      ]
    },
    {
      "cell_type": "markdown",
      "source": [
        "KNN implementation"
      ],
      "metadata": {
        "id": "q_rWq3bZ_LET"
      }
    },
    {
      "cell_type": "code",
      "source": [
        "from sklearn import neighbors\n",
        "from sklearn.neighbors import KNeighborsClassifier"
      ],
      "metadata": {
        "id": "aaQEAPCYbGE9"
      },
      "execution_count": 17,
      "outputs": []
    },
    {
      "cell_type": "code",
      "source": [
        "# TODO: write a function that will use KNN to classify a whole array of test features\n",
        "# Hint: use a wrapper function so that it fits within our accuracy helper function!\n",
        "def knn_classifier(k):\n",
        "    def knn_classify(x_train, y_train, x_test):\n",
        "        knn = KNeighborsClassifier(n_neighbors = k)\n",
        "        knn.fit(x_train, y_train)\n",
        "\n",
        "        return knn.predict(x_test)\n",
        "    return knn_classify"
      ],
      "metadata": {
        "id": "R89CtvhJaVmF"
      },
      "execution_count": 18,
      "outputs": []
    },
    {
      "cell_type": "code",
      "source": [
        "# TODO: test it out with 2, 5, and 10 neighbors\n",
        "x_train, x_test, y_train, y_test = train_test_split(X, y, 0.33)\n",
        "knn = knn_classifier(10)\n",
        "accuracy(knn, x_train, y_train, x_test, y_test)\n"
      ],
      "metadata": {
        "id": "SdsGjWZ0cJBe",
        "colab": {
          "base_uri": "https://localhost:8080/"
        },
        "outputId": "d24261b7-432b-4ea6-e191-b7b7798956ce"
      },
      "execution_count": 52,
      "outputs": [
        {
          "output_type": "execute_result",
          "data": {
            "text/plain": [
              "np.float64(0.8714285714285714)"
            ]
          },
          "metadata": {},
          "execution_count": 52
        }
      ]
    },
    {
      "cell_type": "code",
      "source": [
        "# TODO: test different amounts of neighbors with the cross-validation\n",
        "knn = knn_classifier(2)\n",
        "avg_accuracy(knn, X, y, split = 0.33)"
      ],
      "metadata": {
        "id": "8u71rz7nrISU",
        "colab": {
          "base_uri": "https://localhost:8080/"
        },
        "outputId": "8d8766f5-3cba-4ac0-9c3d-4637b26af058"
      },
      "execution_count": 58,
      "outputs": [
        {
          "output_type": "execute_result",
          "data": {
            "text/plain": [
              "np.float64(0.7978571428571435)"
            ]
          },
          "metadata": {},
          "execution_count": 58
        }
      ]
    },
    {
      "cell_type": "markdown",
      "source": [
        "Finding the best K"
      ],
      "metadata": {
        "id": "rhRaE8Blt9nh"
      }
    },
    {
      "cell_type": "code",
      "source": [
        "# TODO: find the best performing K testing every third value between 1 - 90\n",
        "ks = np.arange(1, 92, 3)\n",
        "acc_list = []\n",
        "for k in ks:\n",
        "  my_knn = knn_classifier(k)\n",
        "  acc = avg_accuracy(my_knn, X, y, split = 0.33)\n",
        "  acc_list.append(acc)\n",
        "print(acc_list)"
      ],
      "metadata": {
        "id": "zYkITP0_e3lR",
        "colab": {
          "base_uri": "https://localhost:8080/"
        },
        "outputId": "f7597e68-fa69-4bcd-fdbe-39547b56dc89"
      },
      "execution_count": 66,
      "outputs": [
        {
          "output_type": "stream",
          "name": "stdout",
          "text": [
            "[np.float64(0.8371428571428566), np.float64(0.8144285714285715), np.float64(0.8352142857142859), np.float64(0.8530714285714289), np.float64(0.8503571428571424), np.float64(0.8569285714285716), np.float64(0.8544285714285713), np.float64(0.8565714285714284), np.float64(0.8552857142857144), np.float64(0.8619285714285718), np.float64(0.8595714285714284), np.float64(0.8640714285714283), np.float64(0.8622142857142856), np.float64(0.8612857142857133), np.float64(0.857642857142857), np.float64(0.8616428571428565), np.float64(0.8614999999999999), np.float64(0.8601428571428569), np.float64(0.8657857142857139), np.float64(0.8659999999999992), np.float64(0.8636428571428568), np.float64(0.863428571428571), np.float64(0.8603571428571424), np.float64(0.8633571428571426), np.float64(0.8579999999999995), np.float64(0.8561428571428565), np.float64(0.8571428571428572), np.float64(0.8280714285714285), np.float64(0.8187857142857143), np.float64(0.7741428571428568), np.float64(0.7317857142857145)]\n"
          ]
        }
      ]
    },
    {
      "cell_type": "code",
      "source": [
        "import seaborn as sns"
      ],
      "metadata": {
        "id": "GK2r4gf2hJw6"
      },
      "execution_count": 67,
      "outputs": []
    },
    {
      "cell_type": "code",
      "source": [
        "# TODO: use seaborn to plot a graph of the accuracies vs. ks\n",
        "# Hint: use sns.lineplot\n",
        "sns.lineplot(x=ks, y=acc_list)"
      ],
      "metadata": {
        "id": "9JQAJnc1hM_m",
        "colab": {
          "base_uri": "https://localhost:8080/",
          "height": 447
        },
        "outputId": "4c6a105a-04e9-4098-bbf6-7bb12ff526f8"
      },
      "execution_count": 68,
      "outputs": [
        {
          "output_type": "execute_result",
          "data": {
            "text/plain": [
              "<Axes: >"
            ]
          },
          "metadata": {},
          "execution_count": 68
        },
        {
          "output_type": "display_data",
          "data": {
            "text/plain": [
              "<Figure size 640x480 with 1 Axes>"
            ],
            "image/png": "[encoded data removed]"
          },
          "metadata": {}
        }
      ]
    },
    {
      "cell_type": "code",
      "source": [
        "# If you have named dataframes, seaborn labels them auotmatically\n",
        "# .... but this can be a pain sometimes\n",
        "# TODO: lets turn our lists into dataframes so seaborn will label them\n",
        "ks_df = pd.DataFrame(ks, columns = [\"k\"])\n",
        "acc_df = pd.DataFrame(acc_list, columns = [\"Accuracy\"])\n",
        "sns.lineplot(x = ks_df.k, y = acc_df.Accuracy)"
      ],
      "metadata": {
        "id": "IcL3F0uWiMId",
        "colab": {
          "base_uri": "https://localhost:8080/",
          "height": 466
        },
        "outputId": "c28a3f2b-621f-482c-f2e6-5d4bc6ecc421"
      },
      "execution_count": 71,
      "outputs": [
        {
          "output_type": "execute_result",
          "data": {
            "text/plain": [
              "<Axes: xlabel='k', ylabel='Accuracy'>"
            ]
          },
          "metadata": {},
          "execution_count": 71
        },
        {
          "output_type": "display_data",
          "data": {
            "text/plain": [
              "<Figure size 640x480 with 1 Axes>"
            ],
            "image/png": "[encoded data removed]"
          },
          "metadata": {}
        }
      ]
    },
    {
      "cell_type": "code",
      "source": [
        "# Or we can just use matplotlibs pyplot package to control the labels and titles\n",
        "# TODO: try it now!\n",
        "# Hint: functions like plt.xlabel, plt.ylabel, and plt.title will be useful\n",
        "import matplotlib.pyplot as plt\n",
        "fig = sns.lineplot(x = ks, y = acc_list)\n",
        "plt.xlabel(\"k\")\n",
        "plt.ylabel(\"Avg Accuracy\")\n",
        "plt.title(\"kNN accuracy for k ranging from 1 to 90\")\n",
        "plt.show(fig)"
      ],
      "metadata": {
        "id": "LfD7eJgQh4th",
        "colab": {
          "base_uri": "https://localhost:8080/",
          "height": 472
        },
        "outputId": "20a465fd-7fa5-471c-8380-686c65177bc2"
      },
      "execution_count": 74,
      "outputs": [
        {
          "output_type": "display_data",
          "data": {
            "text/plain": [
              "<Figure size 640x480 with 1 Axes>"
            ],
            "image/png": "[encoded data removed]"
          },
          "metadata": {}
        }
      ]
    },
    {
      "cell_type": "code",
      "source": [
        "# TODO: lets make another graph but this time lets compute the accuracy for both training and testing sets for different Ks\n",
        "ks = np.arange(1,51)\n",
        "test_acc_list = []\n",
        "train_acc_list = []\n"
      ],
      "metadata": {
        "id": "VYzzhSCxoadH"
      },
      "execution_count": null,
      "outputs": []
    },
    {
      "cell_type": "code",
      "source": [
        "# helper for making a graph nicely\n",
        "from pylab import rcParams\n",
        "sns.set(font_scale=1.2)\n",
        "sns.set_style(\"white\") #whitegrid white dark darkgrid\n",
        "\n",
        "rcParams['figure.figsize'] = 8, 6\n",
        "result = pd.DataFrame( {\"k\":ks,\"Train.Acc\":train_acc_list,\"Test.Acc\":test_acc_list} )\n",
        "pd.melt(result, ['k'])\n",
        "sns.lineplot(x=\"k\",y=\"value\", hue='variable', data=pd.melt(result, ['k']))"
      ],
      "metadata": {
        "id": "BlvvM3dqqW_D"
      },
      "execution_count": null,
      "outputs": []
    }
  ]
}