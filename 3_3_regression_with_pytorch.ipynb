{
  "nbformat": 4,
  "nbformat_minor": 0,
  "metadata": {
    "colab": {
      "provenance": [],
      "include_colab_link": true
    },
    "kernelspec": {
      "name": "python3",
      "display_name": "Python 3"
    },
    "language_info": {
      "name": "python"
    }
  },
  "cells": [
    {
      "cell_type": "markdown",
      "metadata": {
        "id": "view-in-github",
        "colab_type": "text"
      },
      "source": [
        "<a href=\"https://colab.research.google.com/github/WayneGretzky1/CSCI-4521-Applied-Machine-Learning/blob/main/3_3_regression_with_pytorch.ipynb\" target=\"_parent\"><img src=\"https://colab.research.google.com/assets/colab-badge.svg\" alt=\"Open In Colab\"/></a>"
      ]
    },
    {
      "cell_type": "markdown",
      "source": [
        "## PyTorch & Tensors"
      ],
      "metadata": {
        "id": "VyUx0zi-qnaZ"
      }
    },
    {
      "cell_type": "markdown",
      "source": [
        "He we are using `torch`, a new library that will allow us to take derivatives and work with tensors."
      ],
      "metadata": {
        "id": "U-U9I4M9kvcF"
      }
    },
    {
      "cell_type": "code",
      "execution_count": null,
      "metadata": {
        "id": "bqq4jS7Utfdf"
      },
      "outputs": [],
      "source": [
        "import torch\n",
        "import numpy as np"
      ]
    },
    {
      "cell_type": "markdown",
      "source": [
        "First, we make NumPy versions of the arrays:"
      ],
      "metadata": {
        "id": "lq8XFLOllBGZ"
      }
    },
    {
      "cell_type": "code",
      "source": [
        "x = np.array([1,2,3,5])\n",
        "y = np.array([5,8,11,17])"
      ],
      "metadata": {
        "id": "_4UcTgCAuDAS"
      },
      "execution_count": null,
      "outputs": []
    },
    {
      "cell_type": "code",
      "source": [
        "x"
      ],
      "metadata": {
        "id": "1iYaRMMVlWUF",
        "colab": {
          "base_uri": "https://localhost:8080/"
        },
        "outputId": "4798ecfc-0b00-4fa8-b99a-0f138306ca80"
      },
      "execution_count": null,
      "outputs": [
        {
          "output_type": "execute_result",
          "data": {
            "text/plain": [
              "array([1, 2, 3, 5])"
            ]
          },
          "metadata": {},
          "execution_count": 3
        }
      ]
    },
    {
      "cell_type": "markdown",
      "source": [
        "And we can turn those NumPy arrays into Torch tensors. Tensors are similar to arrays (they both represent multi-dimensional grids of numbers, together with various basic linear algebra operations). However, PyTorch tensors allow additional capabilities with auto-differentiation.\n",
        " - PyTorch also better supports GPU acceleration (we'll see this later in the course)."
      ],
      "metadata": {
        "id": "x2af2NGGlEeZ"
      }
    },
    {
      "cell_type": "code",
      "source": [
        "x = torch.Tensor(x)\n",
        "y = torch.Tensor(y)"
      ],
      "metadata": {
        "id": "DqKc5N5quIJN"
      },
      "execution_count": null,
      "outputs": []
    },
    {
      "cell_type": "code",
      "source": [
        "x"
      ],
      "metadata": {
        "id": "9J2vioi8leJH",
        "colab": {
          "base_uri": "https://localhost:8080/"
        },
        "outputId": "515cfca2-b1d8-44b6-808c-c7472f3038c6"
      },
      "execution_count": null,
      "outputs": [
        {
          "output_type": "execute_result",
          "data": {
            "text/plain": [
              "tensor([1., 2., 3., 5.])"
            ]
          },
          "metadata": {},
          "execution_count": 5
        }
      ]
    },
    {
      "cell_type": "markdown",
      "source": [
        "## Autodifferentiation"
      ],
      "metadata": {
        "id": "iBJCh8DMqsiC"
      }
    },
    {
      "cell_type": "markdown",
      "source": [
        "Here we make a new tensor `m`, that has `requires_grad` set to `True`. This means the tensor will keep track of whatever gradients are associated with its computations."
      ],
      "metadata": {
        "id": "gx0ZBwb8rE35"
      }
    },
    {
      "cell_type": "code",
      "source": [
        "m = torch.Tensor([1.0]).float()"
      ],
      "metadata": {
        "id": "xRsJed7Tubkc"
      },
      "execution_count": null,
      "outputs": []
    },
    {
      "cell_type": "code",
      "source": [
        "m.requires_grad = True"
      ],
      "metadata": {
        "id": "JkTUAy3FuerZ"
      },
      "execution_count": null,
      "outputs": []
    },
    {
      "cell_type": "code",
      "source": [
        "m"
      ],
      "metadata": {
        "id": "bRZkHhxVlpkG",
        "colab": {
          "base_uri": "https://localhost:8080/"
        },
        "outputId": "9c5779ef-7c0a-4a46-8601-df11d66cf400"
      },
      "execution_count": null,
      "outputs": [
        {
          "output_type": "execute_result",
          "data": {
            "text/plain": [
              "tensor([1.], requires_grad=True)"
            ]
          },
          "metadata": {},
          "execution_count": 8
        }
      ]
    },
    {
      "cell_type": "markdown",
      "source": [
        "As an example, let's define a variable `l` that is 10 times `m`."
      ],
      "metadata": {
        "id": "A7qmpdW-l4La"
      }
    },
    {
      "cell_type": "code",
      "source": [
        "l = 10*m\n",
        "l"
      ],
      "metadata": {
        "id": "mtnwvZ88mLN_",
        "colab": {
          "base_uri": "https://localhost:8080/"
        },
        "outputId": "1e5c8560-1cce-442a-a753-068c2db70812"
      },
      "execution_count": null,
      "outputs": [
        {
          "output_type": "execute_result",
          "data": {
            "text/plain": [
              "tensor([10.], grad_fn=<MulBackward0>)"
            ]
          },
          "metadata": {},
          "execution_count": 9
        }
      ]
    },
    {
      "cell_type": "markdown",
      "source": [
        "As `m` was `1.0`, `l` is of course `10.0` now.\n",
        "\n",
        "To compute a gradient of every input variable with respect to a given output variable, use the `backward()` function as follows:\n",
        " - ```output_var.backward()```\n",
        "\n",
        "For example, with our variable `l`:"
      ],
      "metadata": {
        "id": "RjZ5fSrZmUcR"
      }
    },
    {
      "cell_type": "code",
      "source": [
        "l.backward()   #fist call .backward() on the output variable\n",
        "print(m.grad)  #then you can compute the gradient of output w.r.t inputs"
      ],
      "metadata": {
        "id": "L54Jfn8zn-X6",
        "colab": {
          "base_uri": "https://localhost:8080/"
        },
        "outputId": "ccfe6f04-ad36-4662-e8b6-63e4b4ccece4"
      },
      "execution_count": null,
      "outputs": [
        {
          "output_type": "stream",
          "name": "stdout",
          "text": [
            "tensor([10.])\n"
          ]
        }
      ]
    },
    {
      "cell_type": "markdown",
      "source": [
        "We see that the derivative of `l` with respect to `m` is 10. That is $\\frac{dl}{dm} = 10.0$. Looking back at our equation for `l` (`l = 10*m`), this makes sense.\n",
        "\n",
        "We can see `m` had the original value of the tensors, which can be accessed with `.item()`, and the partial derivatives which can be accessed with `.grad`:"
      ],
      "metadata": {
        "id": "kIKRKmfToSOa"
      }
    },
    {
      "cell_type": "code",
      "source": [
        "print(m)\n",
        "print(m.item())\n",
        "print(m.grad)"
      ],
      "metadata": {
        "id": "WI4pFqFlo6Sj",
        "colab": {
          "base_uri": "https://localhost:8080/"
        },
        "outputId": "6570df34-25e1-457d-89bf-4b4e3b9eed3d"
      },
      "execution_count": null,
      "outputs": [
        {
          "output_type": "stream",
          "name": "stdout",
          "text": [
            "tensor([1.], requires_grad=True)\n",
            "1.0\n",
            "tensor([10.])\n"
          ]
        }
      ]
    },
    {
      "cell_type": "markdown",
      "source": [
        "Let's put together a bigger example."
      ],
      "metadata": {
        "id": "yaEC4ufDpalH"
      }
    },
    {
      "cell_type": "code",
      "source": [
        "m = torch.Tensor([1.0]).float()\n",
        "n = torch.Tensor([2.0]).float()\n",
        "q = torch.Tensor([5.0]).float()\n",
        "val = torch.Tensor([6.0]).float()\n",
        "offset = torch.Tensor([4.1]).float()\n",
        "m.requires_grad = True\n",
        "n.requires_grad = True\n",
        "q.requires_grad = True\n",
        "val.requires_grad = True\n",
        "offset.requires_grad = True"
      ],
      "metadata": {
        "id": "w9f3SvyGpei2"
      },
      "execution_count": null,
      "outputs": []
    },
    {
      "cell_type": "code",
      "source": [
        "l = 3*m + 2*n + val*q + offset\n",
        "l"
      ],
      "metadata": {
        "id": "lFqdcokKu1gd",
        "colab": {
          "base_uri": "https://localhost:8080/"
        },
        "outputId": "0555a435-366f-4b5a-c270-73a79183b6b8"
      },
      "execution_count": null,
      "outputs": [
        {
          "output_type": "execute_result",
          "data": {
            "text/plain": [
              "tensor([41.1000], grad_fn=<AddBackward0>)"
            ]
          },
          "metadata": {},
          "execution_count": 15
        }
      ]
    },
    {
      "cell_type": "markdown",
      "source": [
        "Okay, we can now compute the partial of the output (`l`) with respect to each of the inputs:"
      ],
      "metadata": {
        "id": "igbrDqoTqAL5"
      }
    },
    {
      "cell_type": "code",
      "source": [
        "l.backward()"
      ],
      "metadata": {
        "id": "QRCKBcztveHk"
      },
      "execution_count": null,
      "outputs": []
    },
    {
      "cell_type": "code",
      "source": [
        "print(\"dl/dm\",m.grad)\n",
        "print(\"dl/dn\",n.grad)\n",
        "print(\"dl/dq\",q.grad)\n",
        "print(\"dl/dval\",val.grad)\n",
        "print(\"dl/doffset\",offset.grad)"
      ],
      "metadata": {
        "id": "ltF_Qipiviq1",
        "colab": {
          "base_uri": "https://localhost:8080/"
        },
        "outputId": "a969acb0-f972-4fe1-ebe5-02925a26c845"
      },
      "execution_count": null,
      "outputs": [
        {
          "output_type": "stream",
          "name": "stdout",
          "text": [
            "dl/dm tensor([3.])\n",
            "dl/dn tensor([2.])\n",
            "dl/dq tensor([6.])\n",
            "dl/dval tensor([5.])\n",
            "dl/doffset tensor([1.])\n"
          ]
        }
      ]
    },
    {
      "cell_type": "markdown",
      "source": [
        "## Linear Fitting"
      ],
      "metadata": {
        "id": "BWEKYYeVqzNy"
      }
    },
    {
      "cell_type": "markdown",
      "source": [
        "Let's try fitting a line to some data. We will assume the line is of the form `y = m*x + b`. Let's make some tensors to help with this model.\n",
        "\n",
        "As we don't know what the optimal values of `m` and `b` will be, we'll just set them to `1.0` for now (an equally good strategy is to use a small random number)."
      ],
      "metadata": {
        "id": "A5Lr5jQmukwM"
      }
    },
    {
      "cell_type": "code",
      "source": [
        "m = torch.Tensor([1.0]).float()\n",
        "m.requires_grad = True"
      ],
      "metadata": {
        "id": "5M9y3m0yv7XL"
      },
      "execution_count": null,
      "outputs": []
    },
    {
      "cell_type": "code",
      "source": [
        "b = torch.Tensor([1.0]).float()\n",
        "b.requires_grad = True"
      ],
      "metadata": {
        "id": "18enu8ixv96B"
      },
      "execution_count": null,
      "outputs": []
    },
    {
      "cell_type": "markdown",
      "source": [
        "I'm going to create some fake data. Let's assume the data with the following values: (1, 5), (2, 8), (3, 11), and (5, 17) ... where the first number is the feature and the second number is the observation.\n",
        "\n",
        "First, we copy those values into tensors:"
      ],
      "metadata": {
        "id": "U6Q65i0_vE5X"
      }
    },
    {
      "cell_type": "code",
      "source": [
        "x = torch.Tensor(np.array([1,2,3,5]))\n",
        "y = torch.Tensor(np.array([5,8,11,17]))"
      ],
      "metadata": {
        "id": "ufUb9AN7ArdQ"
      },
      "execution_count": null,
      "outputs": []
    },
    {
      "cell_type": "markdown",
      "source": [
        "Plotting the data reveals a clear linear trend:"
      ],
      "metadata": {
        "id": "omK56FBWvtk9"
      }
    },
    {
      "cell_type": "code",
      "source": [
        "import seaborn as sns\n",
        "sns.scatterplot(y=y, x=x)"
      ],
      "metadata": {
        "id": "sZ2iNrEWvmc7",
        "colab": {
          "base_uri": "https://localhost:8080/",
          "height": 466
        },
        "outputId": "94921118-0edd-4831-9f3b-40ef2b39133a"
      },
      "execution_count": null,
      "outputs": [
        {
          "output_type": "execute_result",
          "data": {
            "text/plain": [
              "<Axes: xlabel='None', ylabel='None'>"
            ]
          },
          "metadata": {},
          "execution_count": 21
        },
        {
          "output_type": "display_data",
          "data": {
            "text/plain": [
              "<Figure size 640x480 with 1 Axes>"
            ],
            "image/png": "[encoded data removed]"
          },
          "metadata": {}
        }
      ]
    },
    {
      "cell_type": "markdown",
      "source": [
        "Let's see how good the model is when `m` and `b` are both `1.0`."
      ],
      "metadata": {
        "id": "p2LMbhT9vfUN"
      }
    },
    {
      "cell_type": "markdown",
      "source": [
        "First, let's make new predicted y values:"
      ],
      "metadata": {
        "id": "blyebmHmIWxW"
      }
    },
    {
      "cell_type": "code",
      "source": [
        "y_pred = m*x + b\n",
        "y_pred"
      ],
      "metadata": {
        "id": "JSmO1glSv-z_",
        "colab": {
          "base_uri": "https://localhost:8080/"
        },
        "outputId": "da1d79be-6edb-4e81-c1d0-108820b97d88"
      },
      "execution_count": null,
      "outputs": [
        {
          "output_type": "execute_result",
          "data": {
            "text/plain": [
              "tensor([2., 3., 4., 6.], grad_fn=<AddBackward0>)"
            ]
          },
          "metadata": {},
          "execution_count": 22
        }
      ]
    },
    {
      "cell_type": "markdown",
      "source": [
        "and store these values in a pandas dataframe for ease of plotting"
      ],
      "metadata": {
        "id": "RWgTy8t0IakJ"
      }
    },
    {
      "cell_type": "code",
      "source": [
        "import pandas as pd\n",
        "data_array = np.array([x.detach().numpy(),y.detach().numpy(),y_pred.detach().numpy()]).T\n",
        "df = pd.DataFrame(data_array,columns=[\"x\",\"y\",\"y_pred\"], index=[0,1,2,3])\n",
        "df"
      ],
      "metadata": {
        "id": "qRT75sWRxOfl",
        "colab": {
          "base_uri": "https://localhost:8080/",
          "height": 174
        },
        "outputId": "ff5a3690-3e37-4eac-a878-a5abf4838f85"
      },
      "execution_count": null,
      "outputs": [
        {
          "output_type": "execute_result",
          "data": {
            "text/plain": [
              "     x     y  y_pred\n",
              "0  1.0   5.0     2.0\n",
              "1  2.0   8.0     3.0\n",
              "2  3.0  11.0     4.0\n",
              "3  5.0  17.0     6.0"
            ],
            "text/html": [
              "\n",
              "  <div id=\"df-54048987-7b1d-4b96-a137-9de08150ac98\" class=\"colab-df-container\">\n",
              "    <div>\n",
              "<style scoped>\n",
              "    .dataframe tbody tr th:only-of-type {\n",
              "        vertical-align: middle;\n",
              "    }\n",
              "\n",
              "    .dataframe tbody tr th {\n",
              "        vertical-align: top;\n",
              "    }\n",
              "\n",
              "    .dataframe thead th {\n",
              "        text-align: right;\n",
              "    }\n",
              "</style>\n",
              "<table border=\"1\" class=\"dataframe\">\n",
              "  <thead>\n",
              "    <tr style=\"text-align: right;\">\n",
              "      <th></th>\n",
              "      <th>x</th>\n",
              "      <th>y</th>\n",
              "      <th>y_pred</th>\n",
              "    </tr>\n",
              "  </thead>\n",
              "  <tbody>\n",
              "    <tr>\n",
              "      <th>0</th>\n",
              "      <td>1.0</td>\n",
              "      <td>5.0</td>\n",
              "      <td>2.0</td>\n",
              "    </tr>\n",
              "    <tr>\n",
              "      <th>1</th>\n",
              "      <td>2.0</td>\n",
              "      <td>8.0</td>\n",
              "      <td>3.0</td>\n",
              "    </tr>\n",
              "    <tr>\n",
              "      <th>2</th>\n",
              "      <td>3.0</td>\n",
              "      <td>11.0</td>\n",
              "      <td>4.0</td>\n",
              "    </tr>\n",
              "    <tr>\n",
              "      <th>3</th>\n",
              "      <td>5.0</td>\n",
              "      <td>17.0</td>\n",
              "      <td>6.0</td>\n",
              "    </tr>\n",
              "  </tbody>\n",
              "</table>\n",
              "</div>\n",
              "    <div class=\"colab-df-buttons\">\n",
              "\n",
              "  <div class=\"colab-df-container\">\n",
              "    <button class=\"colab-df-convert\" onclick=\"convertToInteractive('df-54048987-7b1d-4b96-a137-9de08150ac98')\"\n",
              "            title=\"Convert this dataframe to an interactive table.\"\n",
              "            style=\"display:none;\">\n",
              "\n",
              "  <svg xmlns=\"http://www.w3.org/2000/svg\" height=\"24px\" viewBox=\"0 -960 960 960\">\n",
              "    <path d=\"M120-120v-720h720v720H120Zm60-500h600v-160H180v160Zm220 220h160v-160H400v160Zm0 220h160v-160H400v160ZM180-400h160v-160H180v160Zm440 0h160v-160H620v160ZM180-180h160v-160H180v160Zm440 0h160v-160H620v160Z\"/>\n",
              "  </svg>\n",
              "    </button>\n",
              "\n",
              "  <style>\n",
              "    .colab-df-container {\n",
              "      display:flex;\n",
              "      gap: 12px;\n",
              "    }\n",
              "\n",
              "    .colab-df-convert {\n",
              "      background-color: #E8F0FE;\n",
              "      border: none;\n",
              "      border-radius: 50%;\n",
              "      cursor: pointer;\n",
              "      display: none;\n",
              "      fill: #1967D2;\n",
              "      height: 32px;\n",
              "      padding: 0 0 0 0;\n",
              "      width: 32px;\n",
              "    }\n",
              "\n",
              "    .colab-df-convert:hover {\n",
              "      background-color: #E2EBFA;\n",
              "      box-shadow: 0px 1px 2px rgba(60, 64, 67, 0.3), 0px 1px 3px 1px rgba(60, 64, 67, 0.15);\n",
              "      fill: #174EA6;\n",
              "    }\n",
              "\n",
              "    .colab-df-buttons div {\n",
              "      margin-bottom: 4px;\n",
              "    }\n",
              "\n",
              "    [theme=dark] .colab-df-convert {\n",
              "      background-color: #3B4455;\n",
              "      fill: #D2E3FC;\n",
              "    }\n",
              "\n",
              "    [theme=dark] .colab-df-convert:hover {\n",
              "      background-color: #434B5C;\n",
              "      box-shadow: 0px 1px 3px 1px rgba(0, 0, 0, 0.15);\n",
              "      filter: drop-shadow(0px 1px 2px rgba(0, 0, 0, 0.3));\n",
              "      fill: #FFFFFF;\n",
              "    }\n",
              "  </style>\n",
              "\n",
              "    <script>\n",
              "      const buttonEl =\n",
              "        document.querySelector('#df-54048987-7b1d-4b96-a137-9de08150ac98 button.colab-df-convert');\n",
              "      buttonEl.style.display =\n",
              "        google.colab.kernel.accessAllowed ? 'block' : 'none';\n",
              "\n",
              "      async function convertToInteractive(key) {\n",
              "        const element = document.querySelector('#df-54048987-7b1d-4b96-a137-9de08150ac98');\n",
              "        const dataTable =\n",
              "          await google.colab.kernel.invokeFunction('convertToInteractive',\n",
              "                                                    [key], {});\n",
              "        if (!dataTable) return;\n",
              "\n",
              "        const docLinkHtml = 'Like what you see? Visit the ' +\n",
              "          '<a target=\"_blank\" href=https://colab.research.google.com/notebooks/data_table.ipynb>data table notebook</a>'\n",
              "          + ' to learn more about interactive tables.';\n",
              "        element.innerHTML = '';\n",
              "        dataTable['output_type'] = 'display_data';\n",
              "        await google.colab.output.renderOutput(dataTable, element);\n",
              "        const docLink = document.createElement('div');\n",
              "        docLink.innerHTML = docLinkHtml;\n",
              "        element.appendChild(docLink);\n",
              "      }\n",
              "    </script>\n",
              "  </div>\n",
              "\n",
              "\n",
              "    <div id=\"df-c71346b7-7c77-493a-84a6-d1bdc2725609\">\n",
              "      <button class=\"colab-df-quickchart\" onclick=\"quickchart('df-c71346b7-7c77-493a-84a6-d1bdc2725609')\"\n",
              "                title=\"Suggest charts\"\n",
              "                style=\"display:none;\">\n",
              "\n",
              "<svg xmlns=\"http://www.w3.org/2000/svg\" height=\"24px\"viewBox=\"0 0 24 24\"\n",
              "     width=\"24px\">\n",
              "    <g>\n",
              "        <path d=\"M19 3H5c-1.1 0-2 .9-2 2v14c0 1.1.9 2 2 2h14c1.1 0 2-.9 2-2V5c0-1.1-.9-2-2-2zM9 17H7v-7h2v7zm4 0h-2V7h2v10zm4 0h-2v-4h2v4z\"/>\n",
              "    </g>\n",
              "</svg>\n",
              "      </button>\n",
              "\n",
              "<style>\n",
              "  .colab-df-quickchart {\n",
              "      --bg-color: #E8F0FE;\n",
              "      --fill-color: #1967D2;\n",
              "      --hover-bg-color: #E2EBFA;\n",
              "      --hover-fill-color: #174EA6;\n",
              "      --disabled-fill-color: #AAA;\n",
              "      --disabled-bg-color: #DDD;\n",
              "  }\n",
              "\n",
              "  [theme=dark] .colab-df-quickchart {\n",
              "      --bg-color: #3B4455;\n",
              "      --fill-color: #D2E3FC;\n",
              "      --hover-bg-color: #434B5C;\n",
              "      --hover-fill-color: #FFFFFF;\n",
              "      --disabled-bg-color: #3B4455;\n",
              "      --disabled-fill-color: #666;\n",
              "  }\n",
              "\n",
              "  .colab-df-quickchart {\n",
              "    background-color: var(--bg-color);\n",
              "    border: none;\n",
              "    border-radius: 50%;\n",
              "    cursor: pointer;\n",
              "    display: none;\n",
              "    fill: var(--fill-color);\n",
              "    height: 32px;\n",
              "    padding: 0;\n",
              "    width: 32px;\n",
              "  }\n",
              "\n",
              "  .colab-df-quickchart:hover {\n",
              "    background-color: var(--hover-bg-color);\n",
              "    box-shadow: 0 1px 2px rgba(60, 64, 67, 0.3), 0 1px 3px 1px rgba(60, 64, 67, 0.15);\n",
              "    fill: var(--button-hover-fill-color);\n",
              "  }\n",
              "\n",
              "  .colab-df-quickchart-complete:disabled,\n",
              "  .colab-df-quickchart-complete:disabled:hover {\n",
              "    background-color: var(--disabled-bg-color);\n",
              "    fill: var(--disabled-fill-color);\n",
              "    box-shadow: none;\n",
              "  }\n",
              "\n",
              "  .colab-df-spinner {\n",
              "    border: 2px solid var(--fill-color);\n",
              "    border-color: transparent;\n",
              "    border-bottom-color: var(--fill-color);\n",
              "    animation:\n",
              "      spin 1s steps(1) infinite;\n",
              "  }\n",
              "\n",
              "  @keyframes spin {\n",
              "    0% {\n",
              "      border-color: transparent;\n",
              "      border-bottom-color: var(--fill-color);\n",
              "      border-left-color: var(--fill-color);\n",
              "    }\n",
              "    20% {\n",
              "      border-color: transparent;\n",
              "      border-left-color: var(--fill-color);\n",
              "      border-top-color: var(--fill-color);\n",
              "    }\n",
              "    30% {\n",
              "      border-color: transparent;\n",
              "      border-left-color: var(--fill-color);\n",
              "      border-top-color: var(--fill-color);\n",
              "      border-right-color: var(--fill-color);\n",
              "    }\n",
              "    40% {\n",
              "      border-color: transparent;\n",
              "      border-right-color: var(--fill-color);\n",
              "      border-top-color: var(--fill-color);\n",
              "    }\n",
              "    60% {\n",
              "      border-color: transparent;\n",
              "      border-right-color: var(--fill-color);\n",
              "    }\n",
              "    80% {\n",
              "      border-color: transparent;\n",
              "      border-right-color: var(--fill-color);\n",
              "      border-bottom-color: var(--fill-color);\n",
              "    }\n",
              "    90% {\n",
              "      border-color: transparent;\n",
              "      border-bottom-color: var(--fill-color);\n",
              "    }\n",
              "  }\n",
              "</style>\n",
              "\n",
              "      <script>\n",
              "        async function quickchart(key) {\n",
              "          const quickchartButtonEl =\n",
              "            document.querySelector('#' + key + ' button');\n",
              "          quickchartButtonEl.disabled = true;  // To prevent multiple clicks.\n",
              "          quickchartButtonEl.classList.add('colab-df-spinner');\n",
              "          try {\n",
              "            const charts = await google.colab.kernel.invokeFunction(\n",
              "                'suggestCharts', [key], {});\n",
              "          } catch (error) {\n",
              "            console.error('Error during call to suggestCharts:', error);\n",
              "          }\n",
              "          quickchartButtonEl.classList.remove('colab-df-spinner');\n",
              "          quickchartButtonEl.classList.add('colab-df-quickchart-complete');\n",
              "        }\n",
              "        (() => {\n",
              "          let quickchartButtonEl =\n",
              "            document.querySelector('#df-c71346b7-7c77-493a-84a6-d1bdc2725609 button');\n",
              "          quickchartButtonEl.style.display =\n",
              "            google.colab.kernel.accessAllowed ? 'block' : 'none';\n",
              "        })();\n",
              "      </script>\n",
              "    </div>\n",
              "\n",
              "  <div id=\"id_b4b5aff4-d41c-47fa-9f20-60629ae1d4c7\">\n",
              "    <style>\n",
              "      .colab-df-generate {\n",
              "        background-color: #E8F0FE;\n",
              "        border: none;\n",
              "        border-radius: 50%;\n",
              "        cursor: pointer;\n",
              "        display: none;\n",
              "        fill: #1967D2;\n",
              "        height: 32px;\n",
              "        padding: 0 0 0 0;\n",
              "        width: 32px;\n",
              "      }\n",
              "\n",
              "      .colab-df-generate:hover {\n",
              "        background-color: #E2EBFA;\n",
              "        box-shadow: 0px 1px 2px rgba(60, 64, 67, 0.3), 0px 1px 3px 1px rgba(60, 64, 67, 0.15);\n",
              "        fill: #174EA6;\n",
              "      }\n",
              "\n",
              "      [theme=dark] .colab-df-generate {\n",
              "        background-color: #3B4455;\n",
              "        fill: #D2E3FC;\n",
              "      }\n",
              "\n",
              "      [theme=dark] .colab-df-generate:hover {\n",
              "        background-color: #434B5C;\n",
              "        box-shadow: 0px 1px 3px 1px rgba(0, 0, 0, 0.15);\n",
              "        filter: drop-shadow(0px 1px 2px rgba(0, 0, 0, 0.3));\n",
              "        fill: #FFFFFF;\n",
              "      }\n",
              "    </style>\n",
              "    <button class=\"colab-df-generate\" onclick=\"generateWithVariable('df')\"\n",
              "            title=\"Generate code using this dataframe.\"\n",
              "            style=\"display:none;\">\n",
              "\n",
              "  <svg xmlns=\"http://www.w3.org/2000/svg\" height=\"24px\"viewBox=\"0 0 24 24\"\n",
              "       width=\"24px\">\n",
              "    <path d=\"M7,19H8.4L18.45,9,17,7.55,7,17.6ZM5,21V16.75L18.45,3.32a2,2,0,0,1,2.83,0l1.4,1.43a1.91,1.91,0,0,1,.58,1.4,1.91,1.91,0,0,1-.58,1.4L9.25,21ZM18.45,9,17,7.55Zm-12,3A5.31,5.31,0,0,0,4.9,8.1,5.31,5.31,0,0,0,1,6.5,5.31,5.31,0,0,0,4.9,4.9,5.31,5.31,0,0,0,6.5,1,5.31,5.31,0,0,0,8.1,4.9,5.31,5.31,0,0,0,12,6.5,5.46,5.46,0,0,0,6.5,12Z\"/>\n",
              "  </svg>\n",
              "    </button>\n",
              "    <script>\n",
              "      (() => {\n",
              "      const buttonEl =\n",
              "        document.querySelector('#id_b4b5aff4-d41c-47fa-9f20-60629ae1d4c7 button.colab-df-generate');\n",
              "      buttonEl.style.display =\n",
              "        google.colab.kernel.accessAllowed ? 'block' : 'none';\n",
              "\n",
              "      buttonEl.onclick = () => {\n",
              "        google.colab.notebook.generateWithVariable('df');\n",
              "      }\n",
              "      })();\n",
              "    </script>\n",
              "  </div>\n",
              "\n",
              "    </div>\n",
              "  </div>\n"
            ],
            "application/vnd.google.colaboratory.intrinsic+json": {
              "type": "dataframe",
              "variable_name": "df",
              "summary": "{\n  \"name\": \"df\",\n  \"rows\": 4,\n  \"fields\": [\n    {\n      \"column\": \"x\",\n      \"properties\": {\n        \"dtype\": \"float32\",\n        \"num_unique_values\": 4,\n        \"samples\": [\n          2.0,\n          5.0,\n          1.0\n        ],\n        \"semantic_type\": \"\",\n        \"description\": \"\"\n      }\n    },\n    {\n      \"column\": \"y\",\n      \"properties\": {\n        \"dtype\": \"float32\",\n        \"num_unique_values\": 4,\n        \"samples\": [\n          8.0,\n          17.0,\n          5.0\n        ],\n        \"semantic_type\": \"\",\n        \"description\": \"\"\n      }\n    },\n    {\n      \"column\": \"y_pred\",\n      \"properties\": {\n        \"dtype\": \"float32\",\n        \"num_unique_values\": 4,\n        \"samples\": [\n          3.0,\n          6.0,\n          2.0\n        ],\n        \"semantic_type\": \"\",\n        \"description\": \"\"\n      }\n    }\n  ]\n}"
            }
          },
          "metadata": {},
          "execution_count": 23
        }
      ]
    },
    {
      "cell_type": "code",
      "source": [
        "dfm = df.melt(\"x\",var_name=\"kind\")"
      ],
      "metadata": {
        "id": "lD8meGKCx8VE"
      },
      "execution_count": null,
      "outputs": []
    },
    {
      "cell_type": "code",
      "source": [
        "sns.scatterplot(data=dfm,x=\"x\",y=\"value\",hue=\"kind\")"
      ],
      "metadata": {
        "id": "-NUBRflpv0kW",
        "colab": {
          "base_uri": "https://localhost:8080/",
          "height": 466
        },
        "outputId": "8373cb39-62d8-44f5-bee1-5e1cb6d46a67"
      },
      "execution_count": null,
      "outputs": [
        {
          "output_type": "execute_result",
          "data": {
            "text/plain": [
              "<Axes: xlabel='x', ylabel='value'>"
            ]
          },
          "metadata": {},
          "execution_count": 25
        },
        {
          "output_type": "display_data",
          "data": {
            "text/plain": [
              "<Figure size 640x480 with 1 Axes>"
            ],
            "image/png": "[encoded data removed]"
          },
          "metadata": {}
        }
      ]
    },
    {
      "cell_type": "markdown",
      "source": [
        "It looks like all of our predicted values are too small. We can compute a `loss` function to measure the difference between the predicted values `y_pred` and the actual values `y`."
      ],
      "metadata": {
        "id": "mju-s_1Nvz8F"
      }
    },
    {
      "cell_type": "code",
      "source": [
        "loss = (y_pred - y)**2\n",
        "loss"
      ],
      "metadata": {
        "id": "OvPErWt2whlA",
        "colab": {
          "base_uri": "https://localhost:8080/"
        },
        "outputId": "6a1beb91-0160-4366-e189-af048f2bdea9"
      },
      "execution_count": null,
      "outputs": [
        {
          "output_type": "execute_result",
          "data": {
            "text/plain": [
              "tensor([  9.,  25.,  49., 121.], grad_fn=<PowBackward0>)"
            ]
          },
          "metadata": {},
          "execution_count": 26
        }
      ]
    },
    {
      "cell_type": "markdown",
      "source": [
        "This loss is the squared error. (Q: Why might the squared error be a better loss than the non-squared error?)\n",
        "\n",
        "To turn this into a single number we can take the average of these losses (taking a vector to a single number is known as \"reducing\" it)."
      ],
      "metadata": {
        "id": "-zdihVF7zPqq"
      }
    },
    {
      "cell_type": "code",
      "source": [
        "loss = loss.mean()  #reduction\n",
        "loss"
      ],
      "metadata": {
        "id": "vhUtuhMswnMA",
        "colab": {
          "base_uri": "https://localhost:8080/"
        },
        "outputId": "deeec5c6-dc7d-479f-ddc8-0ba88bf22f4e"
      },
      "execution_count": null,
      "outputs": [
        {
          "output_type": "execute_result",
          "data": {
            "text/plain": [
              "tensor(51., grad_fn=<MeanBackward0>)"
            ]
          },
          "metadata": {},
          "execution_count": 27
        }
      ]
    },
    {
      "cell_type": "markdown",
      "source": [
        "OK, now for some PyTorch magic!\n",
        "\n",
        "We want the line to fit better. That means we want the loss to go lower. Taking the partial derivative of the loss with respect to each term in our model tells us if moving that term up will make the loss go up or down.\n",
        "\n",
        "Calling `loss.backward()` with PyTorch will compute exactly these partials."
      ],
      "metadata": {
        "id": "9WMBMITtzyh3"
      }
    },
    {
      "cell_type": "code",
      "source": [
        "loss.backward()"
      ],
      "metadata": {
        "id": "jWidpY98wv7C"
      },
      "execution_count": null,
      "outputs": []
    },
    {
      "cell_type": "code",
      "source": [
        "m.grad    # dloss/dm"
      ],
      "metadata": {
        "id": "fVs3eqTJwzPW",
        "colab": {
          "base_uri": "https://localhost:8080/"
        },
        "outputId": "5391aee1-3e73-468c-88d0-6d99c56933f4"
      },
      "execution_count": null,
      "outputs": [
        {
          "output_type": "execute_result",
          "data": {
            "text/plain": [
              "tensor([-44.5000])"
            ]
          },
          "metadata": {},
          "execution_count": 29
        }
      ]
    },
    {
      "cell_type": "code",
      "source": [
        "b.grad   # dloss/db"
      ],
      "metadata": {
        "id": "NsNPE-3R0Wep",
        "colab": {
          "base_uri": "https://localhost:8080/"
        },
        "outputId": "d01e4803-9d0e-4415-f7e5-6cb9985378f1"
      },
      "execution_count": null,
      "outputs": [
        {
          "output_type": "execute_result",
          "data": {
            "text/plain": [
              "tensor([-13.])"
            ]
          },
          "metadata": {},
          "execution_count": 30
        }
      ]
    },
    {
      "cell_type": "markdown",
      "source": [
        "Based on these partial derivatives, we can see that $\\frac{d\\mathrm{loss}}{dm}$  is negative, which means *increasing* the slope `m` will *decrease* the loss. That's exactly what we want! Likewise, we want to increase the y-intercept `b`."
      ],
      "metadata": {
        "id": "aoY3vBGk0v2f"
      }
    },
    {
      "cell_type": "markdown",
      "source": [
        "If we increase our `m` and `b` too much, we can actually overshoot and make the loss bigger.\n",
        "\n",
        "We use a strategy called \"Gradient Descent\". The idea is that we pick a small step size (called a *learning rate*) and make a small adjustment to each parameter of the learning rate times the gradient. Because moving in the direction of the gradient would make our loss go up, we move in the negative of the gradient to make the loss go down."
      ],
      "metadata": {
        "id": "tntveTKA1Ckx"
      }
    },
    {
      "cell_type": "code",
      "source": [
        "lr = 0.001  #Define a small learning rate"
      ],
      "metadata": {
        "id": "eb_9Wd2Cw9wA"
      },
      "execution_count": null,
      "outputs": []
    },
    {
      "cell_type": "code",
      "source": [
        "with torch.no_grad():\n",
        "  m -= m.grad*lr     #Move each paramater in the negative ...\n",
        "  b -= b.grad*lr     # ....of the gradient (reduce loss)\n",
        "  print(m.item(),b.item())"
      ],
      "metadata": {
        "id": "FOq2GRtNxAca",
        "colab": {
          "base_uri": "https://localhost:8080/"
        },
        "outputId": "518be032-c21e-447f-b8fd-cf7f4331107b"
      },
      "execution_count": null,
      "outputs": [
        {
          "output_type": "stream",
          "name": "stdout",
          "text": [
            "1.0444999933242798 1.0130000114440918\n"
          ]
        }
      ]
    },
    {
      "cell_type": "markdown",
      "source": [
        "Above, we used the `with torch.no_grad():` so that we could update `m` and `b` without PyTorch keeping track of the derivatives. This saves a bit of otherwise wasted computation."
      ],
      "metadata": {
        "id": "aX4E3nbJ64oK"
      }
    },
    {
      "cell_type": "markdown",
      "source": [
        "We can use our updated `m` and `b` to make a new prediction `y_pred`, and we can see that the loss has gone down a bit!"
      ],
      "metadata": {
        "id": "LSM6vpjI72Ge"
      }
    },
    {
      "cell_type": "code",
      "source": [
        "y_pred = m*x + b\n",
        "loss = ((y_pred - y)**2).mean()\n",
        "print(loss.item())"
      ],
      "metadata": {
        "id": "n36iz9xV7hjV",
        "colab": {
          "base_uri": "https://localhost:8080/"
        },
        "outputId": "b650fc03-0349-4f5e-9aa7-3fb146b1e5b8"
      },
      "execution_count": null,
      "outputs": [
        {
          "output_type": "stream",
          "name": "stdout",
          "text": [
            "48.87340545654297\n"
          ]
        }
      ]
    },
    {
      "cell_type": "markdown",
      "source": [
        "Now that we've updated `m` and `b`, we can zero out the gradients (to reset our partial derivative calculations) and do it all again:"
      ],
      "metadata": {
        "id": "G_8Az5wv7KVl"
      }
    },
    {
      "cell_type": "code",
      "source": [
        "m.grad.zero_()\n",
        "b.grad.zero_()"
      ],
      "metadata": {
        "id": "kb3kKqZXxMGw",
        "colab": {
          "base_uri": "https://localhost:8080/"
        },
        "outputId": "69945391-bf86-4614-f252-fe780775e290"
      },
      "execution_count": null,
      "outputs": [
        {
          "output_type": "execute_result",
          "data": {
            "text/plain": [
              "tensor([0.])"
            ]
          },
          "metadata": {},
          "execution_count": 34
        }
      ]
    },
    {
      "cell_type": "markdown",
      "source": [
        "## Gradient Descent for Line Fitting"
      ],
      "metadata": {
        "id": "TIXndWrG-NkK"
      }
    },
    {
      "cell_type": "markdown",
      "source": [
        "I'm going to go ahead and put everything we did above together in a loop so we can run it hundreds of times."
      ],
      "metadata": {
        "id": "kbZv8nTS8c2f"
      }
    },
    {
      "cell_type": "code",
      "source": [
        "x = torch.Tensor(np.array([1,2,3,5]))\n",
        "y = torch.Tensor(np.array([5,8,11,17]))"
      ],
      "metadata": {
        "id": "wndTr-3sA2KB"
      },
      "execution_count": null,
      "outputs": []
    },
    {
      "cell_type": "code",
      "source": [
        "# Define learning rate\n",
        "#lr = 2 / (torch.norm(x)*x.shape[0]) # analytical upper bound lr for guaranteed convergence\n",
        "# print(lr)\n",
        "lr = 0.09 #Larger lr goes faster, but what about too large an lr?\n",
        "\n",
        "\n",
        "# Initialize parameters (initializing them small usually helps)\n",
        "# making sure to tell pytorch these are the variables we will be taking the gradient over\n",
        "m = torch.Tensor([1.0]).float()\n",
        "m.requires_grad = True\n",
        "b = torch.Tensor([1.0]).float()\n",
        "b.requires_grad = True\n",
        "\n",
        "# Gradient descent update loop\n",
        "for epoch in range(1000):\n",
        "  # forward pass\n",
        "  y_pred = m*x+b\n",
        "  # compute loss\n",
        "  loss_tensor = (y_pred - y)**2\n",
        "  loss = loss_tensor.mean()\n",
        "  # compute the gradient of our loss function\n",
        "  loss.backward()\n",
        "  with torch.no_grad(): # don't need to include this computation in our gradient\n",
        "    # update our parameters by using the learning rate to define step size\n",
        "    m -= m.grad*lr\n",
        "    b -= b.grad*lr\n",
        "    # reset our gradients\n",
        "    m.grad.zero_()\n",
        "    b.grad.zero_()\n",
        "  if epoch%20==0:\n",
        "    print(\"epoch:\",epoch,\"m=\",m.item(),\"b=\",b.item(),\"loss=\",loss.item())"
      ],
      "metadata": {
        "id": "Lg34fkkDxN8W",
        "colab": {
          "base_uri": "https://localhost:8080/"
        },
        "outputId": "34806a45-20cb-4184-ea46-a95093fabd98"
      },
      "execution_count": null,
      "outputs": [
        {
          "output_type": "stream",
          "name": "stdout",
          "text": [
            "epoch: 0 m= 5.005000114440918 b= 2.1700000762939453 loss= 51.0\n",
            "epoch: 20 m= 3.269510269165039 b= 1.8871941566467285 loss= 0.6860507726669312\n",
            "epoch: 40 m= 3.048922061920166 b= 1.9251344203948975 loss= 0.010670755058526993\n",
            "epoch: 60 m= 3.013970136642456 b= 1.962473750114441 loss= 0.0004772515094373375\n",
            "epoch: 80 m= 3.005500555038452 b= 1.9821773767471313 loss= 7.947679841890931e-05\n",
            "epoch: 100 m= 3.002450704574585 b= 1.991641640663147 loss= 1.7010297597153112e-05\n",
            "epoch: 120 m= 3.001131534576416 b= 1.9960923194885254 loss= 3.705486733451835e-06\n",
            "epoch: 140 m= 3.0005264282226562 b= 1.9981740713119507 loss= 8.085364697762998e-07\n",
            "epoch: 160 m= 3.0002453327178955 b= 1.9991470575332642 loss= 1.7661000129010063e-07\n",
            "epoch: 180 m= 3.000114917755127 b= 1.9996017217636108 loss= 3.847645757559803e-08\n",
            "epoch: 200 m= 3.000053882598877 b= 1.9998139142990112 loss= 8.368317594431574e-09\n",
            "epoch: 220 m= 3.000025510787964 b= 1.9999128580093384 loss= 1.826549578254344e-09\n",
            "epoch: 240 m= 3.000011920928955 b= 1.9999592304229736 loss= 4.0114400690072216e-10\n",
            "epoch: 260 m= 3.0000054836273193 b= 1.9999808073043823 loss= 8.600409273640253e-11\n",
            "epoch: 280 m= 3.000002145767212 b= 1.9999910593032837 loss= 2.05773176276125e-11\n",
            "epoch: 300 m= 3.0000009536743164 b= 1.9999958276748657 loss= 5.5138116294983774e-12\n",
            "epoch: 320 m= 3.0 b= 1.9999982118606567 loss= 4.092726157978177e-12\n",
            "epoch: 340 m= 2.999999761581421 b= 1.9999984502792358 loss= 4.774847184307873e-12\n",
            "epoch: 360 m= 2.999999761581421 b= 1.9999984502792358 loss= 4.774847184307873e-12\n",
            "epoch: 380 m= 2.999999761581421 b= 1.9999984502792358 loss= 4.774847184307873e-12\n",
            "epoch: 400 m= 2.999999761581421 b= 1.9999984502792358 loss= 4.774847184307873e-12\n",
            "epoch: 420 m= 2.999999761581421 b= 1.9999984502792358 loss= 4.774847184307873e-12\n",
            "epoch: 440 m= 2.999999761581421 b= 1.9999984502792358 loss= 4.774847184307873e-12\n",
            "epoch: 460 m= 2.999999761581421 b= 1.9999984502792358 loss= 4.774847184307873e-12\n",
            "epoch: 480 m= 2.999999761581421 b= 1.9999984502792358 loss= 4.774847184307873e-12\n",
            "epoch: 500 m= 2.999999761581421 b= 1.9999984502792358 loss= 4.774847184307873e-12\n",
            "epoch: 520 m= 2.999999761581421 b= 1.9999984502792358 loss= 4.774847184307873e-12\n",
            "epoch: 540 m= 2.999999761581421 b= 1.9999984502792358 loss= 4.774847184307873e-12\n",
            "epoch: 560 m= 2.999999761581421 b= 1.9999984502792358 loss= 4.774847184307873e-12\n",
            "epoch: 580 m= 2.999999761581421 b= 1.9999984502792358 loss= 4.774847184307873e-12\n",
            "epoch: 600 m= 2.999999761581421 b= 1.9999984502792358 loss= 4.774847184307873e-12\n",
            "epoch: 620 m= 2.999999761581421 b= 1.9999984502792358 loss= 4.774847184307873e-12\n",
            "epoch: 640 m= 2.999999761581421 b= 1.9999984502792358 loss= 4.774847184307873e-12\n",
            "epoch: 660 m= 2.999999761581421 b= 1.9999984502792358 loss= 4.774847184307873e-12\n",
            "epoch: 680 m= 2.999999761581421 b= 1.9999984502792358 loss= 4.774847184307873e-12\n",
            "epoch: 700 m= 2.999999761581421 b= 1.9999984502792358 loss= 4.774847184307873e-12\n",
            "epoch: 720 m= 2.999999761581421 b= 1.9999984502792358 loss= 4.774847184307873e-12\n",
            "epoch: 740 m= 2.999999761581421 b= 1.9999984502792358 loss= 4.774847184307873e-12\n",
            "epoch: 760 m= 2.999999761581421 b= 1.9999984502792358 loss= 4.774847184307873e-12\n",
            "epoch: 780 m= 2.999999761581421 b= 1.9999984502792358 loss= 4.774847184307873e-12\n",
            "epoch: 800 m= 2.999999761581421 b= 1.9999984502792358 loss= 4.774847184307873e-12\n",
            "epoch: 820 m= 2.999999761581421 b= 1.9999984502792358 loss= 4.774847184307873e-12\n",
            "epoch: 840 m= 2.999999761581421 b= 1.9999984502792358 loss= 4.774847184307873e-12\n",
            "epoch: 860 m= 2.999999761581421 b= 1.9999984502792358 loss= 4.774847184307873e-12\n",
            "epoch: 880 m= 2.999999761581421 b= 1.9999984502792358 loss= 4.774847184307873e-12\n",
            "epoch: 900 m= 2.999999761581421 b= 1.9999984502792358 loss= 4.774847184307873e-12\n",
            "epoch: 920 m= 2.999999761581421 b= 1.9999984502792358 loss= 4.774847184307873e-12\n",
            "epoch: 940 m= 2.999999761581421 b= 1.9999984502792358 loss= 4.774847184307873e-12\n",
            "epoch: 960 m= 2.999999761581421 b= 1.9999984502792358 loss= 4.774847184307873e-12\n",
            "epoch: 980 m= 2.999999761581421 b= 1.9999984502792358 loss= 4.774847184307873e-12\n"
          ]
        }
      ]
    },
    {
      "cell_type": "markdown",
      "source": [
        "After 100 epochs, the loss is already pretty low, and it continues to decrease.\n",
        "\n",
        "Plotting the revised results, we can see that the predicted outputs fit the actual outputs almost perfectly.\n",
        "\n",
        "Go back up and change the learning rate to 0.01, or even 0.1 and see if the method converges to the line of best fit any faster.\n",
        "\n",
        "**TODO: find the smalles learning rate you can that will make the gradient explode!**"
      ],
      "metadata": {
        "id": "Cw9sKyuX8oDd"
      }
    },
    {
      "cell_type": "code",
      "source": [
        "df = pd.DataFrame(np.array([x.detach().numpy(),y.detach().numpy(),y_pred.detach().numpy()]).T,columns=[\"x\",\"y\",\"y_pred\"], index=[0,1,2,3])\n",
        "dfm = df.melt(\"x\",var_name=\"kind\")\n",
        "sns.scatterplot(data=dfm,x=\"x\",y=\"value\",hue=\"kind\")"
      ],
      "metadata": {
        "id": "QmF2U-LP8Hxt",
        "collapsed": true,
        "colab": {
          "base_uri": "https://localhost:8080/",
          "height": 466
        },
        "outputId": "c67f8acb-e76d-4968-f222-9abbb396e7b7"
      },
      "execution_count": null,
      "outputs": [
        {
          "output_type": "execute_result",
          "data": {
            "text/plain": [
              "<Axes: xlabel='x', ylabel='value'>"
            ]
          },
          "metadata": {},
          "execution_count": 39
        },
        {
          "output_type": "display_data",
          "data": {
            "text/plain": [
              "<Figure size 640x480 with 1 Axes>"
            ],
            "image/png": "[encoded data removed]"
          },
          "metadata": {}
        }
      ]
    },
    {
      "cell_type": "markdown",
      "source": [
        "Using Matplotlib we can plot the line of best fit to see how well it matches our data."
      ],
      "metadata": {
        "id": "ZpZBsy6T9hob"
      }
    },
    {
      "cell_type": "code",
      "source": [
        "import matplotlib.pyplot as plt\n",
        "sns.scatterplot(x=x,y=y)\n",
        "y_intercept =  b.detach().numpy()\n",
        "slope =  m.detach().numpy()\n",
        "plt.plot([0,5],[y_intercept,slope*5+y_intercept], color=\"red\")"
      ],
      "metadata": {
        "id": "Ro-OoAEu9T43",
        "colab": {
          "base_uri": "https://localhost:8080/",
          "height": 466
        },
        "outputId": "559f0a53-57f2-4d88-e21f-bf561b83a646"
      },
      "execution_count": null,
      "outputs": [
        {
          "output_type": "execute_result",
          "data": {
            "text/plain": [
              "[<matplotlib.lines.Line2D at 0x7b436641bb30>]"
            ]
          },
          "metadata": {},
          "execution_count": 40
        },
        {
          "output_type": "display_data",
          "data": {
            "text/plain": [
              "<Figure size 640x480 with 1 Axes>"
            ],
            "image/png": "[encoded data removed]"
          },
          "metadata": {}
        }
      ]
    },
    {
      "cell_type": "markdown",
      "source": [
        "Here we used only 4 data points, and fit a simple linear model with only 2 free parameters. However, the same idea works with many more data points and much more complex models."
      ],
      "metadata": {
        "id": "QFImzUdf967R"
      }
    }
  ]
}